{
 "cells": [
  {
   "cell_type": "code",
   "execution_count": 1,
   "id": "ce949bef",
   "metadata": {},
   "outputs": [],
   "source": [
    "## excersice \n",
    "## write a simulation program that hasnthe following method:\n",
    "## [brand,model,color,year,speed] and the following method\n",
    "## [start,change,gear,acceration and stop]"
   ]
  },
  {
   "cell_type": "code",
   "execution_count": 2,
   "id": "e9dd992a",
   "metadata": {},
   "outputs": [],
   "source": [
    "class simulation:\n",
    "    attrl1=\"brand\"\n",
    "    attrl2=\"color\"\n",
    "    attrl3=\"model\"\n",
    "    attrl4=\"year\"\n",
    "    attrl5=\"speed\"\n",
    "    def method_start(self):\n",
    "        brand=input(\"begin simulation of:\")\n",
    "        while brand == self.attrl1:\n",
    "            print(f'the model of the car {attrl3} determines the movement of the car')\n",
    "    def method2_changegear(self):\n",
    "        model=input(\"change gear:\")\n",
    "        while model == self.attrl2:\n",
    "            print(f'the color of the car {attrl2} determines the apperance of the car ')\n",
    "car = simulation() "
   ]
  },
  {
   "cell_type": "code",
   "execution_count": 3,
   "id": "188f5038",
   "metadata": {},
   "outputs": [
    {
     "name": "stdout",
     "output_type": "stream",
     "text": [
      "begin simulation of:ford\n"
     ]
    }
   ],
   "source": [
    "car.method_start()"
   ]
  },
  {
   "cell_type": "code",
   "execution_count": 4,
   "id": "2ebc73cc",
   "metadata": {},
   "outputs": [
    {
     "name": "stdout",
     "output_type": "stream",
     "text": [
      "change gear:12\n"
     ]
    }
   ],
   "source": [
    "car.method2_changegear()"
   ]
  },
  {
   "cell_type": "code",
   "execution_count": 5,
   "id": "53c9e783",
   "metadata": {},
   "outputs": [],
   "source": [
    "class simulation:\n",
    "    def __init__(self,brand,model,color,year,speed):\n",
    "        self.brand=brand\n",
    "        self.model=model\n",
    "        self.color=color\n",
    "        self.year=year\n",
    "        self.speed=speed\n",
    "    def start (self):\n",
    "        print(f'{self.brand} {self.model} has started')\n",
    "    def gear(self):\n",
    "        option=input(\"choose gear option with,[1,2,3,4,5,R]:\")\n",
    "        if option == \"1\":\n",
    "            print=(f'Gear changed to one{self.speed}') \n",
    "        elif option == \"2\":\n",
    "            print=(f'Gear changed to two{self.speed}') \n",
    "        elif option == \"3\":\n",
    "            print=(f'Gear changed to three{self.speed}') \n",
    "        elif option == \"4\":\n",
    "            print=(f'Gear changed to four{self.speed}') \n",
    "        elif option == \"5\":\n",
    "            print=(f'Gear changed to five{self.speed}') \n",
    "        elif option == \"R\":\n",
    "            print=(f'Gear changed to reverse')\n",
    "    def acceleration(self):\n",
    "        option=input(\"pick your acceleration mode[on,off]\")\n",
    "        if option == \"on\":\n",
    "            print(\"NITRO ENGAGED!!!!\")\n",
    "        elif option == \"off\":\n",
    "            print(\"NITRO DISENGAGED!!!!\")\n",
    "    def stop(self):\n",
    "        print(\"ENGINE SHUTDOWN\")\n",
    "newcar=simulation(\"FORD\",\"VIPER54\",\"WHITE\",1995,\"400mph\")\n",
    "        \n",
    "\n",
    "    "
   ]
  },
  {
   "cell_type": "code",
   "execution_count": 6,
   "id": "8d07fd9b",
   "metadata": {},
   "outputs": [
    {
     "name": "stdout",
     "output_type": "stream",
     "text": [
      "FORD VIPER54 has started\n"
     ]
    }
   ],
   "source": [
    "newcar.start()"
   ]
  },
  {
   "cell_type": "code",
   "execution_count": 7,
   "id": "b924b3ca",
   "metadata": {},
   "outputs": [
    {
     "name": "stdout",
     "output_type": "stream",
     "text": [
      "choose gear option with,[1,2,3,4,5,R]:3\n"
     ]
    }
   ],
   "source": [
    "newcar.gear()"
   ]
  },
  {
   "cell_type": "code",
   "execution_count": 8,
   "id": "a30f589d",
   "metadata": {},
   "outputs": [
    {
     "name": "stdout",
     "output_type": "stream",
     "text": [
      "pick your acceleration mode[on,off]on\n",
      "NITRO ENGAGED!!!!\n"
     ]
    }
   ],
   "source": [
    "newcar.acceleration()"
   ]
  },
  {
   "cell_type": "code",
   "execution_count": 9,
   "id": "3e400363",
   "metadata": {},
   "outputs": [
    {
     "name": "stdout",
     "output_type": "stream",
     "text": [
      "ENGINE SHUTDOWN\n"
     ]
    }
   ],
   "source": [
    "newcar.stop()"
   ]
  },
  {
   "cell_type": "code",
   "execution_count": 10,
   "id": "7adb12dc",
   "metadata": {},
   "outputs": [],
   "source": [
    "## inheritance \n",
    "##in object oriented programming(oop),inhertance is a mechanism that allows a new class (called the\n",
    "##sub class or derived class) to inhert properties and behaviour (method) from an exsiting class \n",
    "##(called the bas class )this relationship  promotes code reuse and the creation\n",
    "##of a hierachy of classes"
   ]
  },
  {
   "cell_type": "code",
   "execution_count": 14,
   "id": "4894710a",
   "metadata": {},
   "outputs": [],
   "source": [
    "class simulation2(simulation):\n",
    "    def openroof(self):\n",
    "        option=input(\"what is the condition[open,close]:\")\n",
    "        if option == \"open\":\n",
    "            print(\"roof opened\")\n",
    "        elif option == \"close\":\n",
    "            print(\"roof closed\")\n",
    "newcar2=simulation2(\"FORD\",\"VIPER\",\"WHITE\",1995,\"300mph\")"
   ]
  },
  {
   "cell_type": "code",
   "execution_count": 15,
   "id": "fc6c3fa3",
   "metadata": {},
   "outputs": [
    {
     "name": "stdout",
     "output_type": "stream",
     "text": [
      "FORD VIPER has started\n"
     ]
    }
   ],
   "source": [
    "newcar2.start()"
   ]
  },
  {
   "cell_type": "code",
   "execution_count": 16,
   "id": "7f45a761",
   "metadata": {},
   "outputs": [
    {
     "name": "stdout",
     "output_type": "stream",
     "text": [
      "pick your acceleration mode[on,off]on\n",
      "NITRO ENGAGED!!!!\n"
     ]
    }
   ],
   "source": [
    "newcar2.acceleration()"
   ]
  },
  {
   "cell_type": "raw",
   "id": "6adea1f3",
   "metadata": {},
   "source": [
    "newcar2.openroof()"
   ]
  },
  {
   "cell_type": "code",
   "execution_count": null,
   "id": "43281f80",
   "metadata": {},
   "outputs": [],
   "source": []
  }
 ],
 "metadata": {
  "kernelspec": {
   "display_name": "Python 3 (ipykernel)",
   "language": "python",
   "name": "python3"
  },
  "language_info": {
   "codemirror_mode": {
    "name": "ipython",
    "version": 3
   },
   "file_extension": ".py",
   "mimetype": "text/x-python",
   "name": "python",
   "nbconvert_exporter": "python",
   "pygments_lexer": "ipython3",
   "version": "3.11.5"
  }
 },
 "nbformat": 4,
 "nbformat_minor": 5
}
