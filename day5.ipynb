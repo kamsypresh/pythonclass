{
 "cells": [
  {
   "cell_type": "code",
   "execution_count": 10,
   "id": "a7e236b9",
   "metadata": {},
   "outputs": [
    {
     "name": "stdout",
     "output_type": "stream",
     "text": [
      "david\n",
      "biology\n"
     ]
    }
   ],
   "source": [
    "student={\n",
    "  \"name\":{\"name1\":\"david\",\"name2\":\"joy\",\"name3\":\"musa\"},  \n",
    "    \"course\":\"science\",\n",
    "    \"subjects\":{\"subject1\":\"furthermaths\",\"subject2\":\"biology\",\"subject3\":\"chemistry\",\"subject4\":\"physics\"}\n",
    "}\n",
    "    \n",
    "\n",
    "print(student[\"name\"][\"name1\"])\n",
    "print(student[\"subjects\"][\"subject2\"])"
   ]
  },
  {
   "cell_type": "code",
   "execution_count": 13,
   "id": "f3aeaac8",
   "metadata": {},
   "outputs": [
    {
     "name": "stdout",
     "output_type": "stream",
     "text": [
      "['__doc__', '__loader__', '__name__', '__package__', '__spec__', 'acos', 'acosh', 'asin', 'asinh', 'atan', 'atan2', 'atanh', 'cbrt', 'ceil', 'comb', 'copysign', 'cos', 'cosh', 'degrees', 'dist', 'e', 'erf', 'erfc', 'exp', 'exp2', 'expm1', 'fabs', 'factorial', 'floor', 'fmod', 'frexp', 'fsum', 'gamma', 'gcd', 'hypot', 'inf', 'isclose', 'isfinite', 'isinf', 'isnan', 'isqrt', 'lcm', 'ldexp', 'lgamma', 'log', 'log10', 'log1p', 'log2', 'modf', 'nan', 'nextafter', 'perm', 'pi', 'pow', 'prod', 'radians', 'remainder', 'sin', 'sinh', 'sqrt', 'tan', 'tanh', 'tau', 'trunc', 'ulp']\n"
     ]
    }
   ],
   "source": [
    "## modules\n",
    "import math\n",
    "print(dir(math))"
   ]
  },
  {
   "cell_type": "code",
   "execution_count": 16,
   "id": "7965e330",
   "metadata": {},
   "outputs": [
    {
     "name": "stdout",
     "output_type": "stream",
     "text": [
      "25\n",
      "5.0\n",
      "0.9912028118634736\n"
     ]
    }
   ],
   "source": [
    "num=25\n",
    "print(math.floor(num))\n",
    "print(math.sqrt(num))\n",
    "print(math.cos(num))\n"
   ]
  },
  {
   "cell_type": "code",
   "execution_count": 17,
   "id": "69257b5d",
   "metadata": {},
   "outputs": [
    {
     "name": "stdout",
     "output_type": "stream",
     "text": [
      "['Counter', 'Decimal', 'Fraction', 'LinearRegression', 'NormalDist', 'StatisticsError', '_SQRT2', '__all__', '__annotations__', '__builtins__', '__cached__', '__doc__', '__file__', '__loader__', '__name__', '__package__', '__spec__', '_coerce', '_convert', '_decimal_sqrt_of_frac', '_exact_ratio', '_fail_neg', '_float_sqrt_of_frac', '_integer_sqrt_of_frac_rto', '_isfinite', '_mean_stdev', '_normal_dist_inv_cdf', '_sqrt_bit_width', '_ss', '_sum', 'bisect_left', 'bisect_right', 'correlation', 'covariance', 'defaultdict', 'erf', 'exp', 'fabs', 'fmean', 'fsum', 'geometric_mean', 'groupby', 'harmonic_mean', 'hypot', 'linear_regression', 'log', 'math', 'mean', 'median', 'median_grouped', 'median_high', 'median_low', 'mode', 'mul', 'multimode', 'namedtuple', 'numbers', 'pstdev', 'pvariance', 'quantiles', 'random', 'reduce', 'repeat', 'sqrt', 'stdev', 'sys', 'tau', 'variance']\n"
     ]
    }
   ],
   "source": [
    "import statistics as stat\n",
    "print(dir(stat))"
   ]
  },
  {
   "cell_type": "code",
   "execution_count": 19,
   "id": "22d424b5",
   "metadata": {},
   "outputs": [
    {
     "name": "stdout",
     "output_type": "stream",
     "text": [
      "9.857142857142858\n",
      "9\n",
      "1\n",
      "7.5813053279887415\n"
     ]
    }
   ],
   "source": [
    "num3=[1,5,7,9,10,12,25]\n",
    "print(stat.mean(num3))\n",
    "print(stat.median(num3))\n",
    "print(stat.mode(num3))\n",
    "print(stat.stdev(num3))"
   ]
  },
  {
   "cell_type": "code",
   "execution_count": 20,
   "id": "c77e2d90",
   "metadata": {},
   "outputs": [
    {
     "name": "stdout",
     "output_type": "stream",
     "text": [
      "['BPF', 'LOG4', 'NV_MAGICCONST', 'RECIP_BPF', 'Random', 'SG_MAGICCONST', 'SystemRandom', 'TWOPI', '_ONE', '_Sequence', '_Set', '__all__', '__builtins__', '__cached__', '__doc__', '__file__', '__loader__', '__name__', '__package__', '__spec__', '_accumulate', '_acos', '_bisect', '_ceil', '_cos', '_e', '_exp', '_floor', '_index', '_inst', '_isfinite', '_log', '_os', '_pi', '_random', '_repeat', '_sha512', '_sin', '_sqrt', '_test', '_test_generator', '_urandom', '_warn', 'betavariate', 'choice', 'choices', 'expovariate', 'gammavariate', 'gauss', 'getrandbits', 'getstate', 'lognormvariate', 'normalvariate', 'paretovariate', 'randbytes', 'randint', 'random', 'randrange', 'sample', 'seed', 'setstate', 'shuffle', 'triangular', 'uniform', 'vonmisesvariate', 'weibullvariate']\n"
     ]
    }
   ],
   "source": [
    "import random\n",
    "print(dir(random))"
   ]
  },
  {
   "cell_type": "code",
   "execution_count": 29,
   "id": "8b720e07",
   "metadata": {},
   "outputs": [
    {
     "name": "stdout",
     "output_type": "stream",
     "text": [
      "50\n",
      "None\n"
     ]
    },
    {
     "data": {
      "text/plain": [
       "16"
      ]
     },
     "execution_count": 29,
     "metadata": {},
     "output_type": "execute_result"
    }
   ],
   "source": [
    "num4=[45,50]\n",
    "print(random.choice(num4))\n",
    "print(random.shuffle(num4))\n",
    "random.randint(14,17)"
   ]
  },
  {
   "cell_type": "code",
   "execution_count": 30,
   "id": "9052848c",
   "metadata": {},
   "outputs": [
    {
     "name": "stdout",
     "output_type": "stream",
     "text": [
      "['Formatter', 'Template', '_ChainMap', '__all__', '__builtins__', '__cached__', '__doc__', '__file__', '__loader__', '__name__', '__package__', '__spec__', '_re', '_sentinel_dict', '_string', 'ascii_letters', 'ascii_lowercase', 'ascii_uppercase', 'capwords', 'digits', 'hexdigits', 'octdigits', 'printable', 'punctuation', 'whitespace']\n"
     ]
    }
   ],
   "source": [
    "import string\n",
    "print(dir(string))"
   ]
  },
  {
   "cell_type": "code",
   "execution_count": 32,
   "id": "0a423e64",
   "metadata": {},
   "outputs": [
    {
     "data": {
      "text/plain": [
       "'abcdefghijklmnopqrstuvwxyzABCDEFGHIJKLMNOPQRSTUVWXYZ'"
      ]
     },
     "execution_count": 32,
     "metadata": {},
     "output_type": "execute_result"
    }
   ],
   "source": [
    "string.ascii_letters"
   ]
  },
  {
   "cell_type": "code",
   "execution_count": 33,
   "id": "2384575c",
   "metadata": {},
   "outputs": [
    {
     "data": {
      "text/plain": [
       "'!\"#$%&\\'()*+,-./:;<=>?@[\\\\]^_`{|}~'"
      ]
     },
     "execution_count": 33,
     "metadata": {},
     "output_type": "execute_result"
    }
   ],
   "source": [
    "string.punctuation"
   ]
  },
  {
   "cell_type": "markdown",
   "id": "ffd8c52e",
   "metadata": {},
   "source": [
    "## conditional statement"
   ]
  },
  {
   "cell_type": "code",
   "execution_count": 40,
   "id": "7ec845e7",
   "metadata": {},
   "outputs": [
    {
     "name": "stdout",
     "output_type": "stream",
     "text": [
      "what is your age16\n",
      "sorry try next time\n"
     ]
    }
   ],
   "source": [
    "user1=float(input(\"what is your age\"))\n",
    "if user1 > 18:\n",
    "    print(\"you are eligible to vote\")\n",
    "else: \n",
    "    print(\"sorry try next time\")\n",
    "\n",
    "    \n"
   ]
  },
  {
   "cell_type": "code",
   "execution_count": 44,
   "id": "72a34ccf",
   "metadata": {},
   "outputs": [
    {
     "name": "stdout",
     "output_type": "stream",
     "text": [
      "what is your age:19\n",
      "you are eligible to vote\n"
     ]
    }
   ],
   "source": [
    "user1=float(input(\"what is your age:\"))\n",
    "if user1 > 18:\n",
    "    print(\"you are eligible to vote\")\n",
    "elif user1>16:\n",
    "    print(\"you are eligible for the primary vote\")\n",
    "else: \n",
    "    print(\"sorry try next time\")\n",
    "\n",
    "    "
   ]
  },
  {
   "cell_type": "code",
   "execution_count": 45,
   "id": "c08e29fb",
   "metadata": {},
   "outputs": [],
   "source": [
    "## write a program that uses a region and age to determine if a customer has a discount\n"
   ]
  },
  {
   "cell_type": "code",
   "execution_count": 51,
   "id": "ad69a92c",
   "metadata": {},
   "outputs": [
    {
     "name": "stdout",
     "output_type": "stream",
     "text": [
      "what is your age18\n",
      "what region do u reside in:south west\n",
      "congratulations you have a discount\n"
     ]
    }
   ],
   "source": [
    "age=float(input(\"what is your age\"))\n",
    "region=input(\"what region do u reside in:\")\n",
    "if age >= 18 and region == \"south south\":\n",
    "    print(\"congratulations you have a discount\")\n",
    "elif age >= 18 and region == \"south east\":\n",
    "    print(\"congratulations you have a discount\")\n",
    "elif age >= 18 and region == \"south west\":\n",
    "    print(\"congratulations you have a discount\")\n",
    "elif age >= 18 and region == \"north west\":\n",
    "    print(\"congratulations you have a discount\")\n",
    "elif age >= 18 and region == \"west west\":\n",
    "    print(\"congratulations you have a discount\")\n",
    "else :\n",
    "    print(\"sorry no discount is allocated to you..try next time\")\n",
    "                \n",
    "            \n",
    "    "
   ]
  },
  {
   "cell_type": "code",
   "execution_count": null,
   "id": "6430db2e",
   "metadata": {},
   "outputs": [],
   "source": [
    "## excersise\n",
    "## write a conditional statement of a specific food served in a resturant and should not be more than 4.\n"
   ]
  },
  {
   "cell_type": "code",
   "execution_count": 57,
   "id": "b4e6151c",
   "metadata": {},
   "outputs": [
    {
     "name": "stdout",
     "output_type": "stream",
     "text": [
      "what would you like to order:sharwama\n",
      "your order will be ready in 15mins\n"
     ]
    }
   ],
   "source": [
    "food=(input(\"what would you like to order:\"))\n",
    "if food == \"rice\" :\n",
    "    print(\"your order will be ready in 10mins\")\n",
    "elif food == \"chicken\" :\n",
    "    print(\"your order will be ready in 20mins\")\n",
    "elif food == \"sharwama\" :\n",
    "    print(\"your order will be ready in 15mins\")\n",
    "else :\n",
    "    print(\"sorry dish not available\")\n",
    "                "
   ]
  },
  {
   "cell_type": "code",
   "execution_count": null,
   "id": "37448f72",
   "metadata": {},
   "outputs": [],
   "source": [
    "## assignment(dictionary)\n",
    "## how can you use a dictionary to store and access information about a customers order, including the order name,date,\n",
    "## and item purchased ? 5 records"
   ]
  },
  {
   "cell_type": "code",
   "execution_count": null,
   "id": "ace991ff",
   "metadata": {},
   "outputs": [],
   "source": []
  }
 ],
 "metadata": {
  "kernelspec": {
   "display_name": "Python 3 (ipykernel)",
   "language": "python",
   "name": "python3"
  },
  "language_info": {
   "codemirror_mode": {
    "name": "ipython",
    "version": 3
   },
   "file_extension": ".py",
   "mimetype": "text/x-python",
   "name": "python",
   "nbconvert_exporter": "python",
   "pygments_lexer": "ipython3",
   "version": "3.11.5"
  }
 },
 "nbformat": 4,
 "nbformat_minor": 5
}
