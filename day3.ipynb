{
 "cells": [
  {
   "cell_type": "code",
   "execution_count": 1,
   "id": "2ef78d17",
   "metadata": {},
   "outputs": [
    {
     "name": "stdout",
     "output_type": "stream",
     "text": [
      "23\n",
      "divine\n",
      "45.0\n",
      "True\n",
      "False\n"
     ]
    }
   ],
   "source": [
    "name= 23\n",
    "name2= \"divine\"\n",
    "name3= 45.0\n",
    "name4= True\n",
    "name5= False\n",
    "print(name)\n",
    "print(name2)\n",
    "print(name3)\n",
    "print(name4)\n",
    "print(name5)"
   ]
  },
  {
   "cell_type": "markdown",
   "id": "511202fb",
   "metadata": {},
   "source": [
    "## comparison operators"
   ]
  },
  {
   "cell_type": "markdown",
   "id": "700a4726",
   "metadata": {},
   "source": [
    "##  ==equal to\n",
    "##  !=not equal to\n",
    "## <greater than\n",
    "## >less than\n",
    "## >=greater or equal to\n",
    "## <= lessser or equal to"
   ]
  },
  {
   "cell_type": "code",
   "execution_count": 1,
   "id": "98f86ae1",
   "metadata": {},
   "outputs": [
    {
     "name": "stdout",
     "output_type": "stream",
     "text": [
      "what is the number:40\n",
      "what is the second number:60\n",
      "this is the resultsFalse,True,False,True,True,False\n"
     ]
    }
   ],
   "source": [
    "user1=input(\"what is the number:\")\n",
    "user2=input(\"what is the second number:\")\n",
    "result1=user1==user2\n",
    "result2=user1!=user2\n",
    "result3=user1>user2\n",
    "result4=user1<user2\n",
    "result5=user1<=user2\n",
    "result6=user1>=user2\n",
    "print(f\"this is the results{result1},{result2},{result3},{result4},{result5},{result6}\")"
   ]
  },
  {
   "cell_type": "markdown",
   "id": "c2a36073",
   "metadata": {},
   "source": [
    "## identity operators"
   ]
  },
  {
   "cell_type": "code",
   "execution_count": 3,
   "id": "3b1061bc",
   "metadata": {},
   "outputs": [
    {
     "name": "stdout",
     "output_type": "stream",
     "text": [
      "this is: False\n",
      "this is not: True\n"
     ]
    }
   ],
   "source": [
    "A=20\n",
    "B=\"earlycode\"\n",
    "print(\"this is:\",A is B)\n",
    "print(\"this is not:\",A is not B)"
   ]
  },
  {
   "cell_type": "code",
   "execution_count": 7,
   "id": "d9fe6cde",
   "metadata": {},
   "outputs": [
    {
     "data": {
      "text/plain": [
       "True"
      ]
     },
     "execution_count": 7,
     "metadata": {},
     "output_type": "execute_result"
    }
   ],
   "source": [
    "A and b"
   ]
  },
  {
   "cell_type": "markdown",
   "id": "f7fd01c4",
   "metadata": {},
   "source": [
    "## logical operators"
   ]
  },
  {
   "cell_type": "code",
   "execution_count": 4,
   "id": "d6ac0e11",
   "metadata": {},
   "outputs": [
    {
     "data": {
      "text/plain": [
       "False"
      ]
     },
     "execution_count": 4,
     "metadata": {},
     "output_type": "execute_result"
    }
   ],
   "source": [
    "a= True\n",
    "b= True\n",
    "c= False\n",
    "a and c"
   ]
  },
  {
   "cell_type": "code",
   "execution_count": 5,
   "id": "6210aaa3",
   "metadata": {},
   "outputs": [
    {
     "data": {
      "text/plain": [
       "True"
      ]
     },
     "execution_count": 5,
     "metadata": {},
     "output_type": "execute_result"
    }
   ],
   "source": [
    "a or b"
   ]
  },
  {
   "cell_type": "code",
   "execution_count": 8,
   "id": "a7518a73",
   "metadata": {},
   "outputs": [
    {
     "data": {
      "text/plain": [
       "True"
      ]
     },
     "execution_count": 8,
     "metadata": {},
     "output_type": "execute_result"
    }
   ],
   "source": [
    "c or a"
   ]
  },
  {
   "cell_type": "code",
   "execution_count": 9,
   "id": "e070efb3",
   "metadata": {},
   "outputs": [
    {
     "data": {
      "text/plain": [
       "True"
      ]
     },
     "execution_count": 9,
     "metadata": {},
     "output_type": "execute_result"
    }
   ],
   "source": [
    "a or c"
   ]
  },
  {
   "cell_type": "code",
   "execution_count": 10,
   "id": "34f71026",
   "metadata": {},
   "outputs": [
    {
     "data": {
      "text/plain": [
       "True"
      ]
     },
     "execution_count": 10,
     "metadata": {},
     "output_type": "execute_result"
    }
   ],
   "source": [
    "not c"
   ]
  },
  {
   "cell_type": "code",
   "execution_count": 12,
   "id": "3e4add6c",
   "metadata": {},
   "outputs": [
    {
     "data": {
      "text/plain": [
       "True"
      ]
     },
     "execution_count": 12,
     "metadata": {},
     "output_type": "execute_result"
    }
   ],
   "source": [
    "a or c"
   ]
  },
  {
   "cell_type": "markdown",
   "id": "6269dfc5",
   "metadata": {},
   "source": [
    "## arithemetic operator"
   ]
  },
  {
   "cell_type": "code",
   "execution_count": 17,
   "id": "7851c1c6",
   "metadata": {},
   "outputs": [
    {
     "name": "stdout",
     "output_type": "stream",
     "text": [
      "mr p made a profit of 0.0\n"
     ]
    }
   ],
   "source": [
    "## mr p bought a good of 500000 and sold each of goods 20000 what is the profit\n",
    "buying_price= 500000\n",
    "selling_price= 20000\n",
    "numbers_bags= buying_price/selling_price\n",
    "profit= (numbers_bags*selling_price)-buying_price\n",
    "print(f\"mr p made a profit of {profit}\")"
   ]
  },
  {
   "cell_type": "code",
   "execution_count": null,
   "id": "5148c819",
   "metadata": {},
   "outputs": [],
   "source": [
    "## create an input function to calculate the amount of food being served in a resturant\n",
    "## amount for food is 12000\n",
    "## calculate the amount for each dish"
   ]
  },
  {
   "cell_type": "code",
   "execution_count": 8,
   "id": "35add472",
   "metadata": {},
   "outputs": [
    {
     "name": "stdout",
     "output_type": "stream",
     "text": [
      "quantity_of_food:19\n",
      " amount_for_dish:216000.0\n"
     ]
    }
   ],
   "source": [
    "##amount_of_food=12000\n",
    "user1=float(input(\"quantity_of_food:\"))\n",
    "price_of_food = 12000\n",
    "amount_for_dish = (user1 * price_of_food) - price_of_food\n",
    "print(f\" amount_for_dish:{amount_for_dish}\")"
   ]
  },
  {
   "cell_type": "code",
   "execution_count": null,
   "id": "7f4600c6",
   "metadata": {},
   "outputs": [],
   "source": []
  }
 ],
 "metadata": {
  "kernelspec": {
   "display_name": "Python 3 (ipykernel)",
   "language": "python",
   "name": "python3"
  },
  "language_info": {
   "codemirror_mode": {
    "name": "ipython",
    "version": 3
   },
   "file_extension": ".py",
   "mimetype": "text/x-python",
   "name": "python",
   "nbconvert_exporter": "python",
   "pygments_lexer": "ipython3",
   "version": "3.11.5"
  }
 },
 "nbformat": 4,
 "nbformat_minor": 5
}
