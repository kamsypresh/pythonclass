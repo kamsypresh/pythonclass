{
 "cells": [
  {
   "cell_type": "code",
   "execution_count": 2,
   "id": "eb83fdc0",
   "metadata": {},
   "outputs": [
    {
     "name": "stdout",
     "output_type": "stream",
     "text": [
      "1\n",
      "2\n",
      "3\n",
      "4\n",
      "5\n",
      "6\n",
      "7\n",
      "8\n",
      "9\n",
      "10\n",
      "11\n",
      "12\n",
      "13\n",
      "14\n",
      "15\n",
      "16\n",
      "17\n",
      "18\n",
      "19\n",
      "20\n",
      "21\n",
      "22\n",
      "23\n",
      "24\n",
      "25\n",
      "26\n",
      "27\n",
      "28\n",
      "29\n",
      "30\n"
     ]
    }
   ],
   "source": [
    "## RANGES USING FOR LOOP\n",
    "for h in range(1,31):\n",
    "    print(h)"
   ]
  },
  {
   "cell_type": "code",
   "execution_count": 16,
   "id": "dfabcec7",
   "metadata": {},
   "outputs": [
    {
     "name": "stdout",
     "output_type": "stream",
     "text": [
      "player two wins\n",
      "player two score is :4\n",
      "player one score is :7\n",
      "draw\n",
      "player one score is :10\n",
      "player two score is :10\n",
      "player one wins\n",
      "player one score is :8\n",
      "player two score is :6\n",
      "player two wins\n",
      "player two score is :4\n",
      "player one score is :8\n",
      "player one wins\n",
      "player one score is :9\n",
      "player two score is :7\n",
      "draw\n",
      "player one score is :8\n",
      "player two score is :8\n",
      "draw\n",
      "player one score is :8\n",
      "player two score is :8\n",
      "player one wins\n",
      "player one score is :9\n",
      "player two score is :7\n",
      "player one wins\n",
      "player one score is :7\n",
      "player two score is :6\n",
      "player one wins\n",
      "player one score is :8\n",
      "player two score is :5\n",
      "PLAYER ONE IS THE OVERALL WINNER BY 28 point\n"
     ]
    }
   ],
   "source": [
    "# dice random selection using for loop and range.\n",
    "score1= 0\n",
    "score2= 0\n",
    "import random\n",
    "for i in range(1,11):\n",
    "    dice1=(random.randint(1,6)+ random.randint(1,6))\n",
    "    dice2=(random.randint(1,6)+ random.randint(1,6))\n",
    "    \n",
    "    if dice1 > dice2:\n",
    "        score1 += 5\n",
    "        print('player one wins')\n",
    "        print(f\"player one score is :{dice1}\")\n",
    "        print(f\"player two score is :{dice2}\")\n",
    "            \n",
    "            \n",
    "    elif dice2 > dice1:\n",
    "        score2 += 5\n",
    "        print('player two wins')\n",
    "        print(f\"player two score is :{dice1}\")\n",
    "        print(f\"player one score is :{dice2}\")\n",
    "    elif dice1 == dice2:\n",
    "        score2 += 1\n",
    "        score1 += 1\n",
    "        print('draw')\n",
    "        print(f\"player one score is :{dice1}\")\n",
    "        print(f\"player two score is :{dice2}\")\n",
    "           \n",
    "if score1 > score2:\n",
    "        print(f\"PLAYER ONE IS THE OVERALL WINNER BY {score1} point\")\n",
    "elif score2 > score1:\n",
    "    print(f\"PLAYER TWO IS THE OVERALL WINNER BY {score2}POINT\")\n",
    "elif score2 == score1:\n",
    "    print(f\"DRAW PLAYER ONE SCORE IS:{score1},PLAYER TWO SCORE IS {score2}point\")\n",
    "            \n",
    "    \n",
    "    "
   ]
  },
  {
   "cell_type": "markdown",
   "id": "869bf16b",
   "metadata": {},
   "source": [
    "## functions "
   ]
  },
  {
   "cell_type": "code",
   "execution_count": 21,
   "id": "531847cc",
   "metadata": {},
   "outputs": [
    {
     "name": "stdout",
     "output_type": "stream",
     "text": [
      "welcome to python class\n"
     ]
    }
   ],
   "source": [
    "def greet():\n",
    "    print(\"welcome to python class\")\n",
    "greet()"
   ]
  },
  {
   "cell_type": "code",
   "execution_count": 24,
   "id": "1b0d2981",
   "metadata": {},
   "outputs": [
    {
     "name": "stdout",
     "output_type": "stream",
     "text": [
      "welcome to python class mr hamza\n"
     ]
    }
   ],
   "source": [
    "def greet2(name):\n",
    "    print(f'welcome to python class {name}')\n",
    "greet2(\"mr hamza\")"
   ]
  },
  {
   "cell_type": "code",
   "execution_count": 26,
   "id": "e57dc561",
   "metadata": {},
   "outputs": [
    {
     "name": "stdout",
     "output_type": "stream",
     "text": [
      "_______CITIZEN DETAILS_______)\n",
      "    \"name\":james\n",
      "    \"gender\"male\n",
      "    \"age\":21\n",
      "    \n",
      "you are eligible to vote\n"
     ]
    }
   ],
   "source": [
    "def vote(name,age,gender):\n",
    "    print(f\"\"\"_______CITIZEN DETAILS_______)\n",
    "    \"name\":{name}\n",
    "    \"gender\"{gender}\n",
    "    \"age\":{age}\n",
    "    \"\"\")\n",
    "    if age > 18:\n",
    "        print(\"you are eligible to vote\")\n",
    "    elif age  > 16:\n",
    "        print('yor are aligible to vote primary sector')\n",
    "    else:\n",
    "        print(\"you are eligible to vote in any sector....\")\n",
    "vote(\"james\",21,\"male\")"
   ]
  },
  {
   "cell_type": "code",
   "execution_count": 28,
   "id": "2fdc0e9f",
   "metadata": {},
   "outputs": [
    {
     "name": "stdout",
     "output_type": "stream",
     "text": [
      "_______CITIZEN DETAILS_______)\n",
      "    \"name\":james\n",
      "    \"gender\"male\n",
      "    \"age\":18\n",
      "    \n",
      "yor are aligible to vote primary sector\n"
     ]
    }
   ],
   "source": [
    "def vote(name,gender,age=18):\n",
    "    print(f\"\"\"_______CITIZEN DETAILS_______)\n",
    "    \"name\":{name}\n",
    "    \"gender\"{gender}\n",
    "    \"age\":{age}\n",
    "    \"\"\")\n",
    "    if age > 18:\n",
    "        print(\"you are eligible to vote\")\n",
    "    elif age  > 16:\n",
    "        print('yor are aligible to vote primary sector')\n",
    "    else:\n",
    "        print(\"you are eligible to vote in any sector....\")\n",
    "vote(\"james\",\"male\",18)"
   ]
  },
  {
   "cell_type": "code",
   "execution_count": 6,
   "id": "e827a5ec",
   "metadata": {},
   "outputs": [
    {
     "name": "stdout",
     "output_type": "stream",
     "text": [
      "math score:90\n",
      "pysics score:90\n",
      "geography score:90\n",
      "c.r.k score:90\n",
      "biology score:90\n",
      "agric score:90\n",
      "health edu score:90\n",
      "f.math score:90\n",
      "your avg score is 90.0 your score is A excellent\n",
      "_____EXAM SCORE DETAILS_____)\n",
      "\"name\":james offor\n",
      "\"age\":18\n",
      "\"course\":science\n",
      "   \n"
     ]
    }
   ],
   "source": [
    "def subject(name,age,course):\n",
    "    \n",
    "    print (f\"\"\"_____EXAM SCORE DETAILS_____)\n",
    "\"name\":{name}\n",
    "\"age\":{age}\n",
    "\"course\":{course}\n",
    "   \"\"\")\n",
    "subject1= float(input(\"math score:\"))\n",
    "subject2= float(input(\"pysics score:\"))\n",
    "subject3= float(input(\"geography score:\"))\n",
    "subject4= float(input(\"c.r.k score:\"))\n",
    "subject5= float(input(\"biology score:\"))\n",
    "subject6= float(input(\"agric score:\" ))\n",
    "subject7= float(input(\"health edu score:\" ))\n",
    "subject7= float(input(\"f.math score:\" ))\n",
    "import statistics as stat\n",
    "avg=round(stat.mean([subject1,subject2,subject3,subject4,subject5,subject6,subject7]),2)\n",
    "\n",
    "if avg >=70 and avg <=100:\n",
    "    print(f\"your avg score is {avg} your score is A excellent\")\n",
    "elif avg >=60 and avg <=69.99:\n",
    "    print(f\"your avg score is {avg} your score is B you pass\")\n",
    "elif avg >=50 and avg <=59.99:\n",
    "    print(f\"your avg score is {avg} your score is C you pass\")\n",
    "elif avg >=40 and avg <=49.99:\n",
    "    print(f\"your avg score is {avg} your score is D you pass\")\n",
    "elif avg >=30 and avg <=39.99:\n",
    "    print(f\"your avg score is {avg} your score is E almost there\")\n",
    "else:\n",
    "    print(f\"sorry you cant promote\")\n",
    "subject(\"james offor\", 18 ,\"science\")"
   ]
  },
  {
   "cell_type": "code",
   "execution_count": null,
   "id": "6d9d7798",
   "metadata": {},
   "outputs": [],
   "source": []
  }
 ],
 "metadata": {
  "kernelspec": {
   "display_name": "Python 3 (ipykernel)",
   "language": "python",
   "name": "python3"
  },
  "language_info": {
   "codemirror_mode": {
    "name": "ipython",
    "version": 3
   },
   "file_extension": ".py",
   "mimetype": "text/x-python",
   "name": "python",
   "nbconvert_exporter": "python",
   "pygments_lexer": "ipython3",
   "version": "3.11.5"
  }
 },
 "nbformat": 4,
 "nbformat_minor": 5
}
