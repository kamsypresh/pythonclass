{
 "cells": [
  {
   "cell_type": "code",
   "execution_count": 6,
   "id": "fc083d64",
   "metadata": {},
   "outputs": [
    {
     "name": "stdout",
     "output_type": "stream",
     "text": [
      "physics score:100\n",
      "maths score:100\n",
      "chemistry score:100\n",
      "biology score:100\n",
      "economics score:100\n",
      "english score:100\n",
      "your avg score is 100.0 your score is A\n"
     ]
    }
   ],
   "source": [
    "## conditional statement\n",
    "## program software student subjects to look for the average of the score and give a score point\n",
    "grade1= float(input(\"physics score:\"))\n",
    "grade2= float(input(\"maths score:\"))\n",
    "grade3= float(input(\"chemistry score:\"))\n",
    "grade4= float(input(\"biology score:\"))\n",
    "grade5= float(input(\"economics score:\"))\n",
    "grade6= float(input(\"english score:\" ))\n",
    "import statistics as stat\n",
    "avg=round(stat.mean([grade1,grade2,grade3,grade4,grade5,grade6]),2)\n",
    "if avg >=70 and avg <=100:\n",
    "    print(f\"your avg score is {avg} your score is A\")\n",
    "elif avg >=60 and avg <=69.99:\n",
    "    print(f\"your avg score is {avg} your score is B\")\n",
    "elif avg >=50 and avg <=59.99:\n",
    "    print(f\"your avg score is {avg} your score is C\")\n",
    "elif avg >=40 and avg <=49.99:\n",
    "    print(f\"your avg score is {avg} your score is D\")\n",
    "elif avg >=30 and avg <=39.99:\n",
    "    print(f\"your avg score is {avg} your score is E\")\n",
    "else:\n",
    "    print(f\"sorry you failed badly\")\n",
    "\n",
    "                                        \n",
    "                                        \n"
   ]
  },
  {
   "cell_type": "markdown",
   "id": "5d166872",
   "metadata": {},
   "source": [
    "## loops"
   ]
  },
  {
   "cell_type": "code",
   "execution_count": 7,
   "id": "95004494",
   "metadata": {},
   "outputs": [],
   "source": [
    "## loops is the act for a programmer to repeat a program over again using loop \n",
    "## two types of loop\n",
    "## for loop\n",
    "## while loop"
   ]
  },
  {
   "cell_type": "code",
   "execution_count": 10,
   "id": "d0230dd4",
   "metadata": {},
   "outputs": [
    {
     "name": "stdout",
     "output_type": "stream",
     "text": [
      "sss\n",
      "ccc\n",
      "iii\n",
      "eee\n",
      "nnn\n",
      "ccc\n",
      "eee\n",
      "   \n"
     ]
    }
   ],
   "source": [
    "## for loop(using a variable.)\n",
    "word=\"science \"\n",
    "for kamsy in word:\n",
    "    print(kamsy * 3)"
   ]
  },
  {
   "cell_type": "code",
   "execution_count": 11,
   "id": "eaa3c761",
   "metadata": {},
   "outputs": [
    {
     "name": "stdout",
     "output_type": "stream",
     "text": [
      "enter the character:n\n",
      "nnnnn\n"
     ]
    }
   ],
   "source": [
    "## for loop (using conditional statement)\n",
    "word=\"python\"\n",
    "user=input(\"enter the character:\")\n",
    "for char in word:\n",
    "    if user == char:\n",
    "        print(char*5)"
   ]
  },
  {
   "cell_type": "code",
   "execution_count": 15,
   "id": "fd76c6be",
   "metadata": {},
   "outputs": [
    {
     "name": "stdout",
     "output_type": "stream",
     "text": [
      "enter the character:p\n",
      "character found\n"
     ]
    }
   ],
   "source": [
    "word=\"python\"\n",
    "user=input(\"enter the character:\")\n",
    "for char in word:\n",
    "    if user == char:\n",
    "        print(\"character found\")\n",
    "        break\n",
    "    else:\n",
    "        print(\"character not found\")"
   ]
  },
  {
   "cell_type": "code",
   "execution_count": null,
   "id": "3aac639a",
   "metadata": {},
   "outputs": [
    {
     "name": "stdout",
     "output_type": "stream",
     "text": [
      "what is the square number you looking for:5\n",
      "the square root of 5 is 2.23606797749979\n",
      "enter your number:4\n",
      "the square root of 4 is 2.0\n"
     ]
    }
   ],
   "source": [
    "## while loop\n",
    "counter=0\n",
    "num=int(input(\"what is the square number you looking for:\"))\n",
    "import math\n",
    "while num != 0:\n",
    "    print(f\"the square root of {num} is {math.sqrt(num)}\")\n",
    "    num=int(input('enter your number:'))\n",
    "    counter += 1"
   ]
  },
  {
   "cell_type": "code",
   "execution_count": 22,
   "id": "756a570f",
   "metadata": {},
   "outputs": [
    {
     "name": "stdout",
     "output_type": "stream",
     "text": [
      "what is the number:78\n"
     ]
    }
   ],
   "source": [
    "### using while loop for multiplication table\n",
    "counter=1\n",
    "num=int(input(\"what is the number:\"))\n",
    "while counter >= 12:\n",
    "    print(f' {num} * {counter} = {num * counter}')\n",
    "    counter += 1"
   ]
  },
  {
   "cell_type": "code",
   "execution_count": 25,
   "id": "c3d18908",
   "metadata": {},
   "outputs": [
    {
     "name": "stdout",
     "output_type": "stream",
     "text": [
      "10\n",
      "9\n",
      "8\n",
      "7\n",
      "6\n",
      "5\n",
      "4\n",
      "3\n",
      "2\n",
      "1\n",
      "happy new year>>>\n"
     ]
    }
   ],
   "source": [
    "## countdown using while loop\n",
    "counter=10\n",
    "while counter > 0:\n",
    "    print(counter)\n",
    "    counter -=1\n",
    "print(\"happy new year>>>\")    \n"
   ]
  },
  {
   "cell_type": "code",
   "execution_count": null,
   "id": "8ac82cd6",
   "metadata": {},
   "outputs": [],
   "source": [
    "## "
   ]
  }
 ],
 "metadata": {
  "kernelspec": {
   "display_name": "Python 3 (ipykernel)",
   "language": "python",
   "name": "python3"
  },
  "language_info": {
   "codemirror_mode": {
    "name": "ipython",
    "version": 3
   },
   "file_extension": ".py",
   "mimetype": "text/x-python",
   "name": "python",
   "nbconvert_exporter": "python",
   "pygments_lexer": "ipython3",
   "version": "3.11.5"
  }
 },
 "nbformat": 4,
 "nbformat_minor": 5
}
