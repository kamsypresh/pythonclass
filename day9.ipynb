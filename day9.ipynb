{
 "cells": [
  {
   "cell_type": "code",
   "execution_count": 1,
   "id": "2801d116",
   "metadata": {},
   "outputs": [],
   "source": [
    "class person:\n",
    "    attr11=\"sam\"\n",
    "    attr12=\"dark\"\n",
    "    attr13=\"height\"\n",
    "person1=person()"
   ]
  },
  {
   "cell_type": "code",
   "execution_count": 2,
   "id": "7c03efa6",
   "metadata": {},
   "outputs": [
    {
     "data": {
      "text/plain": [
       "'sam'"
      ]
     },
     "execution_count": 2,
     "metadata": {},
     "output_type": "execute_result"
    }
   ],
   "source": [
    "person1.attr11"
   ]
  },
  {
   "cell_type": "code",
   "execution_count": 3,
   "id": "b70464a3",
   "metadata": {},
   "outputs": [
    {
     "data": {
      "text/plain": [
       "'height'"
      ]
     },
     "execution_count": 3,
     "metadata": {},
     "output_type": "execute_result"
    }
   ],
   "source": [
    "person1.attr13"
   ]
  },
  {
   "cell_type": "code",
   "execution_count": 4,
   "id": "308df469",
   "metadata": {},
   "outputs": [
    {
     "data": {
      "text/plain": [
       "'dark'"
      ]
     },
     "execution_count": 4,
     "metadata": {},
     "output_type": "execute_result"
    }
   ],
   "source": [
    "person1.attr12"
   ]
  },
  {
   "cell_type": "markdown",
   "id": "a93f40a7",
   "metadata": {},
   "source": [
    "## adding function to class(METHOD)"
   ]
  },
  {
   "cell_type": "code",
   "execution_count": 5,
   "id": "b3579e44",
   "metadata": {},
   "outputs": [],
   "source": [
    "class person :\n",
    "    attrl1=\"same\"\n",
    "    attrl2=\"fair\"\n",
    "    \n",
    "    def details(self):\n",
    "        print(f'''name:{self.attrl1}\n",
    "               complextion:{self.attrl2}''')\n",
    "        \n",
    "    def action(self):\n",
    "        print(f'''my name is {self.attrl1} and i am {self.attrl2}''')\n",
    "person2=person()"
   ]
  },
  {
   "cell_type": "code",
   "execution_count": 6,
   "id": "4b30d023",
   "metadata": {},
   "outputs": [
    {
     "name": "stdout",
     "output_type": "stream",
     "text": [
      "name:same\n",
      "               complextion:fair\n"
     ]
    }
   ],
   "source": [
    "person2.details()"
   ]
  },
  {
   "cell_type": "code",
   "execution_count": 7,
   "id": "dbb11bda",
   "metadata": {},
   "outputs": [
    {
     "name": "stdout",
     "output_type": "stream",
     "text": [
      "my name is same and i am fair\n"
     ]
    }
   ],
   "source": [
    "person2.action()"
   ]
  },
  {
   "cell_type": "code",
   "execution_count": 8,
   "id": "9562366a",
   "metadata": {},
   "outputs": [
    {
     "name": "stdout",
     "output_type": "stream",
     "text": [
      "[1, 9, 16, 10000, 576, 625]\n"
     ]
    }
   ],
   "source": [
    "# mqp function\n",
    "numbers=[1,3,4,100,24,25]\n",
    "squared_roots=list(map(lambda x: x**2,numbers))\n",
    "print(squared_roots)"
   ]
  },
  {
   "cell_type": "code",
   "execution_count": 9,
   "id": "af9a814e",
   "metadata": {},
   "outputs": [],
   "source": [
    "class moniapp:\n",
    "    def ___init___(self):\n",
    "        self.balance =0\n",
    "    def deposit(self):\n",
    "        amount=float(input(\"enter deposit amount:\"))\n",
    "        self.balance += amount\n",
    "        print (\"transaction succesfully....\")\n",
    "    def transfer(self):\n",
    "        amount=float(input(\"enter transfer amount\"))\n",
    "        bankname=input(\"enter bank name\")\n",
    "        acct_number=input(\"enter accountno:\")\n",
    "        if amount > self.balance or amount == 0:\n",
    "            print(\"cannot complete transaction due to insufficient funds\")\n",
    "        else:\n",
    "            self.balance -= amount\n",
    "            print('transaction successfully compeleted')\n",
    "    def airtime(self):\n",
    "        amount=float(input(\"enter amount\"))\n",
    "        network=input(\"enter user network\")\n",
    "        providername=input(\"enter provider name:\")\n",
    "        if amount > self.balance or amount == 0:\n",
    "            print(\"cannot complete transaction due to insufficient funds\")\n",
    "        else:\n",
    "            self.balance -= amount\n",
    "            print('AIRTIME TRANSFER successfully compeleted')\n",
    "    def data(self):\n",
    "        amount=float(input(\"enter amount\"))\n",
    "        network=input(\"enter user network\")\n",
    "        providername=input(\"enter provider name:\")\n",
    "        if amount > self.balance or amount == 0:\n",
    "            print(\"cannot complete transaction due to insufficient funds\")\n",
    "        else:\n",
    "            self.balance -= amount\n",
    "            print('DATA TRANSFER successfully compeleted')\n",
    "    def checkbalance(self):\n",
    "        print(f'your available balance is {self.balance}')\n",
    "bankapp=moniapp()"
   ]
  },
  {
   "cell_type": "code",
   "execution_count": 10,
   "id": "5c612ff8",
   "metadata": {},
   "outputs": [
    {
     "name": "stdout",
     "output_type": "stream",
     "text": [
      "enter deposit amount:50000000\n"
     ]
    },
    {
     "ename": "AttributeError",
     "evalue": "'moniapp' object has no attribute 'balance'",
     "output_type": "error",
     "traceback": [
      "\u001b[1;31m---------------------------------------------------------------------------\u001b[0m",
      "\u001b[1;31mAttributeError\u001b[0m                            Traceback (most recent call last)",
      "Cell \u001b[1;32mIn[10], line 1\u001b[0m\n\u001b[1;32m----> 1\u001b[0m bankapp\u001b[38;5;241m.\u001b[39mdeposit()\n",
      "Cell \u001b[1;32mIn[9], line 6\u001b[0m, in \u001b[0;36mmoniapp.deposit\u001b[1;34m(self)\u001b[0m\n\u001b[0;32m      4\u001b[0m \u001b[38;5;28;01mdef\u001b[39;00m \u001b[38;5;21mdeposit\u001b[39m(\u001b[38;5;28mself\u001b[39m):\n\u001b[0;32m      5\u001b[0m     amount\u001b[38;5;241m=\u001b[39m\u001b[38;5;28mfloat\u001b[39m(\u001b[38;5;28minput\u001b[39m(\u001b[38;5;124m\"\u001b[39m\u001b[38;5;124menter deposit amount:\u001b[39m\u001b[38;5;124m\"\u001b[39m))\n\u001b[1;32m----> 6\u001b[0m     \u001b[38;5;28mself\u001b[39m\u001b[38;5;241m.\u001b[39mbalance \u001b[38;5;241m+\u001b[39m\u001b[38;5;241m=\u001b[39m amount\n\u001b[0;32m      7\u001b[0m     \u001b[38;5;28mprint\u001b[39m (\u001b[38;5;124m\"\u001b[39m\u001b[38;5;124mtransaction succesfully....\u001b[39m\u001b[38;5;124m\"\u001b[39m)\n",
      "\u001b[1;31mAttributeError\u001b[0m: 'moniapp' object has no attribute 'balance'"
     ]
    }
   ],
   "source": [
    "bankapp.deposit()"
   ]
  },
  {
   "cell_type": "code",
   "execution_count": null,
   "id": "299e0424",
   "metadata": {},
   "outputs": [],
   "source": []
  },
  {
   "cell_type": "code",
   "execution_count": null,
   "id": "243ffd3f",
   "metadata": {},
   "outputs": [],
   "source": []
  }
 ],
 "metadata": {
  "kernelspec": {
   "display_name": "Python 3 (ipykernel)",
   "language": "python",
   "name": "python3"
  },
  "language_info": {
   "codemirror_mode": {
    "name": "ipython",
    "version": 3
   },
   "file_extension": ".py",
   "mimetype": "text/x-python",
   "name": "python",
   "nbconvert_exporter": "python",
   "pygments_lexer": "ipython3",
   "version": "3.11.5"
  }
 },
 "nbformat": 4,
 "nbformat_minor": 5
}
