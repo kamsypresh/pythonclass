{
 "cells": [
  {
   "cell_type": "code",
   "execution_count": 1,
   "id": "55cec11e",
   "metadata": {},
   "outputs": [],
   "source": [
    "##exercise\n",
    "##write a program to the following to display patient record,\n",
    "##calculate their checking fee based on the continent, check their body mass index note\n",
    "##read and understand the question to know what attribute that are needed"
   ]
  },
  {
   "cell_type": "code",
   "execution_count": 18,
   "id": "36dc81e8",
   "metadata": {},
   "outputs": [],
   "source": [
    "class patientrecord:\n",
    "    def __init__(self,name,age,weight,height,complextion,gender):\n",
    "        self.name=name\n",
    "        self.age=age\n",
    "        self.weight=weight\n",
    "        self.height=height\n",
    "        self.complextion=complextion\n",
    "        self.gender=gender\n",
    "    \n",
    "    def display(self):\n",
    "        print(f\"\"\"_____patient record____\n",
    "        \"name\":{self.name}\n",
    "        \"age\":{self.age}\n",
    "        \"weight\":{self.weight}\n",
    "        \"height\":{self.height}\n",
    "        \"complextion:{self.complextion}\n",
    "        \"gender\":{self.gender}\n",
    "        \"\"\")\n",
    "    def continentfees(self):\n",
    "        option=input(\"what is your continent are you from,[africa,asia,australia,europe]\")\n",
    "        if option ==\"africa\":\n",
    "            print(\"your checking fee is $200\")\n",
    "        elif option ==\"asia\":\n",
    "            print(\"your checking fee is $700\")\n",
    "        elif option ==\"australia\":\n",
    "            print(\"your checking fee is $400\")\n",
    "        elif option ==\"europe\":\n",
    "            print(\"your checking fee is $500\")\n",
    "    def BMI(self):\n",
    "        weight=(\"what is your curent weight in kg:\")\n",
    "        height=(\"what is your current height in meters:\")\n",
    "        bmi=weight/height**2\n",
    "        if BMI_calculator <16:\n",
    "            print(\"severe thinness see the doctor\")\n",
    "        elif BMI_calculator >=18.5 and BMI_calculator <25:\n",
    "            print(\"healthy weight keep it up\")\n",
    "        elif BMI_calculator >25 and BMI_calculator <= 30:\n",
    "            print(\"overweight\")\n",
    "        elif BMI_calculator >30 and BMI_calculator <=40:\n",
    "            print(\"your are obesse...lose some weight\")\n",
    "record=patientrecord(\"jared\",18,11.6,4.5,\"dark\",\"male\")"
   ]
  },
  {
   "cell_type": "code",
   "execution_count": 12,
   "id": "178157fd",
   "metadata": {},
   "outputs": [
    {
     "name": "stdout",
     "output_type": "stream",
     "text": [
      "_____patient record____\n",
      "        \"name\":jared\n",
      "        \"age\":18\n",
      "        \"weight\":11.6\n",
      "        \"height\":4.5\n",
      "        \"complextion:dark\n",
      "        \"gender\":male\n",
      "        \n"
     ]
    }
   ],
   "source": [
    "record.display()"
   ]
  },
  {
   "cell_type": "code",
   "execution_count": 14,
   "id": "f657b833",
   "metadata": {},
   "outputs": [
    {
     "name": "stdout",
     "output_type": "stream",
     "text": [
      "what is your continent are you from,[africa,asia,australia,europe]africa\n",
      "your checking fee is $200\n"
     ]
    }
   ],
   "source": [
    "record.continentfees()"
   ]
  },
  {
   "cell_type": "code",
   "execution_count": 19,
   "id": "29d9c166",
   "metadata": {},
   "outputs": [
    {
     "ename": "TypeError",
     "evalue": "unsupported operand type(s) for ** or pow(): 'str' and 'int'",
     "output_type": "error",
     "traceback": [
      "\u001b[1;31m---------------------------------------------------------------------------\u001b[0m",
      "\u001b[1;31mTypeError\u001b[0m                                 Traceback (most recent call last)",
      "Cell \u001b[1;32mIn[19], line 1\u001b[0m\n\u001b[1;32m----> 1\u001b[0m record\u001b[38;5;241m.\u001b[39mBMI()\n",
      "Cell \u001b[1;32mIn[18], line 32\u001b[0m, in \u001b[0;36mpatientrecord.BMI\u001b[1;34m(self)\u001b[0m\n\u001b[0;32m     30\u001b[0m weight\u001b[38;5;241m=\u001b[39m(\u001b[38;5;124m\"\u001b[39m\u001b[38;5;124mwhat is your curent weight in kg:\u001b[39m\u001b[38;5;124m\"\u001b[39m)\n\u001b[0;32m     31\u001b[0m height\u001b[38;5;241m=\u001b[39m(\u001b[38;5;124m\"\u001b[39m\u001b[38;5;124mwhat is your current height in meters:\u001b[39m\u001b[38;5;124m\"\u001b[39m)\n\u001b[1;32m---> 32\u001b[0m bmi\u001b[38;5;241m=\u001b[39mweight\u001b[38;5;241m/\u001b[39mheight\u001b[38;5;241m*\u001b[39m\u001b[38;5;241m*\u001b[39m\u001b[38;5;241m2\u001b[39m\n\u001b[0;32m     33\u001b[0m \u001b[38;5;28;01mif\u001b[39;00m BMI_calculator \u001b[38;5;241m<\u001b[39m\u001b[38;5;241m16\u001b[39m:\n\u001b[0;32m     34\u001b[0m     \u001b[38;5;28mprint\u001b[39m(\u001b[38;5;124m\"\u001b[39m\u001b[38;5;124msevere thinness see the doctor\u001b[39m\u001b[38;5;124m\"\u001b[39m)\n",
      "\u001b[1;31mTypeError\u001b[0m: unsupported operand type(s) for ** or pow(): 'str' and 'int'"
     ]
    }
   ],
   "source": [
    "record.BMI()"
   ]
  },
  {
   "cell_type": "markdown",
   "id": "27975155",
   "metadata": {},
   "source": [
    "## ERROR HANDLING"
   ]
  },
  {
   "cell_type": "code",
   "execution_count": 20,
   "id": "d3b11950",
   "metadata": {},
   "outputs": [
    {
     "name": "stdout",
     "output_type": "stream",
     "text": [
      "what is the number2\n",
      "what is the number2\n",
      "2\n",
      "2\n"
     ]
    }
   ],
   "source": [
    "try:\n",
    "    num1=int(input(\"what is the number\"))\n",
    "    num2=int(input(\"what is the number\"))\n",
    "except:\n",
    "    print (\"incorrect input,try again\")\n",
    "else:\n",
    "    print(num1)\n",
    "    print(num2)"
   ]
  },
  {
   "cell_type": "code",
   "execution_count": null,
   "id": "798b8a31",
   "metadata": {},
   "outputs": [],
   "source": [
    "try:\n",
    "    num1=int(input(\"what is the number\"))\n",
    "    num2=int(input(\"what is the number\"))\n",
    "    operation=(\"choose your operators[+,*,-,/]\")\n",
    "    if operator == \"+\":\n",
    "        print(f\"{num1} + {num2}={num1 + num2}\")\n",
    "    elif operator == \"*\":\n",
    "        print(f\"{num1} * {num2}={num1 * num2}\")\n",
    "    elif operator == \"-\":\n",
    "        print(f\"{num1} - {num2}={num1 - num2}\")\n",
    "    elif operator == \"/\":\n",
    "        print(f\"{num1} / {num2}={num1 / num2}\")\n",
    "except valueError:\n",
    "    print(\"wrong value,try again\")\n",
    "except zerodivisionerror:\n",
    "    print(\"wrong value,zero cannot be divided try again\")\n",
    "except:\n",
    "    print(\"encountered two or more errors\")\n",
    "    "
   ]
  }
 ],
 "metadata": {
  "kernelspec": {
   "display_name": "Python 3 (ipykernel)",
   "language": "python",
   "name": "python3"
  },
  "language_info": {
   "codemirror_mode": {
    "name": "ipython",
    "version": 3
   },
   "file_extension": ".py",
   "mimetype": "text/x-python",
   "name": "python",
   "nbconvert_exporter": "python",
   "pygments_lexer": "ipython3",
   "version": "3.11.5"
  }
 },
 "nbformat": 4,
 "nbformat_minor": 5
}
