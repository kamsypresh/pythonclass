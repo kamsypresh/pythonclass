{
 "cells": [
  {
   "cell_type": "code",
   "execution_count": 1,
   "id": "044d8623",
   "metadata": {},
   "outputs": [
    {
     "name": "stdout",
     "output_type": "stream",
     "text": [
      "quantity_of_food:56\n",
      " amount_for_dish:660000.0\n"
     ]
    }
   ],
   "source": [
    "##amount_of_food=12000\n",
    "user1=float(input(\"quantity_of_food:\"))\n",
    "price_of_food = 12000\n",
    "amount_for_dish = (user1 * price_of_food) - price_of_food\n",
    "print(f\" amount_for_dish:{amount_for_dish}\")"
   ]
  },
  {
   "cell_type": "code",
   "execution_count": null,
   "id": "beeaa7c7",
   "metadata": {},
   "outputs": [],
   "source": []
  }
 ],
 "metadata": {
  "kernelspec": {
   "display_name": "Python 3 (ipykernel)",
   "language": "python",
   "name": "python3"
  },
  "language_info": {
   "codemirror_mode": {
    "name": "ipython",
    "version": 3
   },
   "file_extension": ".py",
   "mimetype": "text/x-python",
   "name": "python",
   "nbconvert_exporter": "python",
   "pygments_lexer": "ipython3",
   "version": "3.11.5"
  }
 },
 "nbformat": 4,
 "nbformat_minor": 5
}
