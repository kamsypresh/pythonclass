{
 "cells": [
  {
   "cell_type": "code",
   "execution_count": 1,
   "id": "b13b1e9e",
   "metadata": {},
   "outputs": [],
   "source": [
    "## the class should have attribute for the account holder's name,account number and balance.\n",
    "## implement method for deposits and withdrawal money is not allowed if the the withdrawal amount exceed\n",
    "## the acct balance, implement a method to display the acct details\n"
   ]
  },
  {
   "cell_type": "code",
   "execution_count": 5,
   "id": "49b98c2a",
   "metadata": {},
   "outputs": [],
   "source": [
    "class acct_details:\n",
    "    attrl1=\"samuel\"\n",
    "    attrl2=\"00875476544\"\n",
    "    attrl3=\"400000\"\n",
    "    def details(self):\n",
    "        print(f'''\n",
    "        holder_name:{self.attrl1}\n",
    "        acct balance:{self.attrl2}\n",
    "        acct balance2:{self.attrl3}''')\n",
    "    def ___init____(self):\n",
    "        self.balance=0\n",
    "    def deposite(self):\n",
    "        amount=float(input(\"enter deposite amount\"))\n",
    "        self.balance += amount\n",
    "        print(\"transaction successful\")\n",
    "    def withdrwal(self):\n",
    "        amount=float(input(\"enter transfer amount\"))\n",
    "        pin=input(\"enter pin\")\n",
    "        if amount > self.balance or amount == 0:\n",
    "            print(\"cannot complete withdrawal due to insufficient funds\")\n",
    "        else:\n",
    "            self.balance -= amount\n",
    "            print('withdrawal successfully compeleted')\n",
    "    def checkbalance(self):\n",
    "        print(f'your available balance is {self.balance}')\n",
    "acct_info=acct_details()\n",
    "    "
   ]
  },
  {
   "cell_type": "code",
   "execution_count": 6,
   "id": "d985e846",
   "metadata": {},
   "outputs": [
    {
     "name": "stdout",
     "output_type": "stream",
     "text": [
      "\n",
      "        holder_name:samuel\n",
      "        acct balance:00875476544\n",
      "        acct balance:400000\n"
     ]
    }
   ],
   "source": [
    "acct_info.details()"
   ]
  },
  {
   "cell_type": "code",
   "execution_count": 10,
   "id": "6dea53ed",
   "metadata": {},
   "outputs": [
    {
     "name": "stdout",
     "output_type": "stream",
     "text": [
      "enter deposite amount200\n"
     ]
    },
    {
     "ename": "AttributeError",
     "evalue": "'acct_details' object has no attribute 'balance'",
     "output_type": "error",
     "traceback": [
      "\u001b[1;31m---------------------------------------------------------------------------\u001b[0m",
      "\u001b[1;31mAttributeError\u001b[0m                            Traceback (most recent call last)",
      "Cell \u001b[1;32mIn[10], line 1\u001b[0m\n\u001b[1;32m----> 1\u001b[0m acct_info\u001b[38;5;241m.\u001b[39mdeposite()\n",
      "Cell \u001b[1;32mIn[5], line 14\u001b[0m, in \u001b[0;36macct_details.deposite\u001b[1;34m(self)\u001b[0m\n\u001b[0;32m     12\u001b[0m \u001b[38;5;28;01mdef\u001b[39;00m \u001b[38;5;21mdeposite\u001b[39m(\u001b[38;5;28mself\u001b[39m):\n\u001b[0;32m     13\u001b[0m     amount\u001b[38;5;241m=\u001b[39m\u001b[38;5;28mfloat\u001b[39m(\u001b[38;5;28minput\u001b[39m(\u001b[38;5;124m\"\u001b[39m\u001b[38;5;124menter deposite amount\u001b[39m\u001b[38;5;124m\"\u001b[39m))\n\u001b[1;32m---> 14\u001b[0m     \u001b[38;5;28mself\u001b[39m\u001b[38;5;241m.\u001b[39mbalance \u001b[38;5;241m+\u001b[39m\u001b[38;5;241m=\u001b[39m amount\n\u001b[0;32m     15\u001b[0m     \u001b[38;5;28mprint\u001b[39m(\u001b[38;5;124m\"\u001b[39m\u001b[38;5;124mtransaction successful\u001b[39m\u001b[38;5;124m\"\u001b[39m)\n",
      "\u001b[1;31mAttributeError\u001b[0m: 'acct_details' object has no attribute 'balance'"
     ]
    }
   ],
   "source": [
    "acct_info.deposite()"
   ]
  },
  {
   "cell_type": "code",
   "execution_count": null,
   "id": "39aa154c",
   "metadata": {},
   "outputs": [],
   "source": []
  }
 ],
 "metadata": {
  "kernelspec": {
   "display_name": "Python 3 (ipykernel)",
   "language": "python",
   "name": "python3"
  },
  "language_info": {
   "codemirror_mode": {
    "name": "ipython",
    "version": 3
   },
   "file_extension": ".py",
   "mimetype": "text/x-python",
   "name": "python",
   "nbconvert_exporter": "python",
   "pygments_lexer": "ipython3",
   "version": "3.11.5"
  }
 },
 "nbformat": 4,
 "nbformat_minor": 5
}
