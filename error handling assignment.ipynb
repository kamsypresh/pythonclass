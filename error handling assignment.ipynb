{
 "cells": [
  {
   "cell_type": "code",
   "execution_count": 2,
   "id": "6e049937",
   "metadata": {},
   "outputs": [
    {
     "ename": "SyntaxError",
     "evalue": "expected 'except' or 'finally' block (667239996.py, line 42)",
     "output_type": "error",
     "traceback": [
      "\u001b[1;36m  Cell \u001b[1;32mIn[2], line 42\u001b[1;36m\u001b[0m\n\u001b[1;33m    except:\u001b[0m\n\u001b[1;37m           ^\u001b[0m\n\u001b[1;31mSyntaxError\u001b[0m\u001b[1;31m:\u001b[0m expected 'except' or 'finally' block\n"
     ]
    }
   ],
   "source": [
    "class patientrecord:\n",
    "    def __init__(self,name,age,weight,height,complextion,gender):\n",
    "        self.name=name\n",
    "        self.age=age\n",
    "        self.weight=weight\n",
    "        self.height=height\n",
    "        self.complextion=complextion\n",
    "        self.gender=gender\n",
    "    \n",
    "    def display(self):\n",
    "        print(f\"\"\"_____patient record____\n",
    "        \"name\":{self.name}\n",
    "        \"age\":{self.age}\n",
    "        \"weight\":{self.weight}\n",
    "        \"height\":{self.height}\n",
    "        \"complextion:{self.complextion}\n",
    "        \"gender\":{self.gender}\n",
    "        \"\"\")\n",
    "    def continentfees(self):\n",
    "        option=input(\"what is your continent are you from,[africa,asia,australia,europe]\")\n",
    "        if option ==\"africa\":\n",
    "            print(\"your checking fee is $200\")\n",
    "        elif option ==\"asia\":\n",
    "            print(\"your checking fee is $700\")\n",
    "        elif option ==\"australia\":\n",
    "            print(\"your checking fee is $400\")\n",
    "        elif option ==\"europe\":\n",
    "            print(\"your checking fee is $500\")\n",
    "    try:\n",
    "        BMI_calculator\n",
    "        weight=(\"what is your curent weight in kg:\")\n",
    "        height=(\"what is your current height in meters:\")\n",
    "        bmi=weight/height**2\n",
    "        if BMI_calculator <16:\n",
    "            print(\"severe thinness see the doctor\")\n",
    "        elif BMI_calculator >=18.5 and BMI_calculator <25:\n",
    "            print(\"healthy weight keep it up\")\n",
    "        elif BMI_calculator >25 and BMI_calculator <= 30:\n",
    "            print(\"overweight\")\n",
    "        elif BMI_calculator >30 and BMI_calculator <=40:\n",
    "            print(\"your are obesse...lose some weight\")\n",
    "except:\n",
    "    print(\"wrong value try again\")"
   ]
  },
  {
   "cell_type": "code",
   "execution_count": null,
   "id": "49532d20",
   "metadata": {},
   "outputs": [],
   "source": []
  },
  {
   "cell_type": "code",
   "execution_count": null,
   "id": "c26940dd",
   "metadata": {},
   "outputs": [],
   "source": []
  }
 ],
 "metadata": {
  "kernelspec": {
   "display_name": "Python 3 (ipykernel)",
   "language": "python",
   "name": "python3"
  },
  "language_info": {
   "codemirror_mode": {
    "name": "ipython",
    "version": 3
   },
   "file_extension": ".py",
   "mimetype": "text/x-python",
   "name": "python",
   "nbconvert_exporter": "python",
   "pygments_lexer": "ipython3",
   "version": "3.11.5"
  }
 },
 "nbformat": 4,
 "nbformat_minor": 5
}
