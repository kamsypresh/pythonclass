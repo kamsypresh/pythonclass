{
 "cells": [
  {
   "cell_type": "code",
   "execution_count": 1,
   "id": "173e05da",
   "metadata": {},
   "outputs": [],
   "source": [
    "## assignment(dictionary)\n",
    "## how can you use a dictionary to store and access information about a customers order, including the order name,date,\n",
    "## and item purchased ? 5 records"
   ]
  },
  {
   "cell_type": "code",
   "execution_count": 3,
   "id": "0a683c70",
   "metadata": {},
   "outputs": [
    {
     "name": "stdout",
     "output_type": "stream",
     "text": [
      "{'order name': 'gloria package', 'item': {'item3: schoolbag', 'item4: joggers', 'item1: perfume', 'item2 :waterbottle', 'item5: wristwatch'}, 'date': {'date1': '14_05_23', 'date2': '19_06_23', 'date3': '20_07_23', 'date4': '30_09_23', 'date5': '10_10_23'}}\n"
     ]
    }
   ],
   "source": [
    "order= {\n",
    "    \"order name\":\"gloria package\",\n",
    "    \"item\": {\"item1: perfume\",\"item2 :waterbottle\",\"item3: schoolbag\",\"item4: joggers\",\"item5: wristwatch\"},\n",
    "    \"date\": {\"date1\":\"14_05_23\",\"date2\":\"19_06_23\",\"date3\":\"20_07_23\",\"date4\":\"30_09_23\",\"date5\":\"10_10_23\"},\n",
    "}\n",
    "print(order)"
   ]
  },
  {
   "cell_type": "code",
   "execution_count": null,
   "id": "d45ba8c6",
   "metadata": {},
   "outputs": [],
   "source": []
  }
 ],
 "metadata": {
  "kernelspec": {
   "display_name": "Python 3 (ipykernel)",
   "language": "python",
   "name": "python3"
  },
  "language_info": {
   "codemirror_mode": {
    "name": "ipython",
    "version": 3
   },
   "file_extension": ".py",
   "mimetype": "text/x-python",
   "name": "python",
   "nbconvert_exporter": "python",
   "pygments_lexer": "ipython3",
   "version": "3.11.5"
  }
 },
 "nbformat": 4,
 "nbformat_minor": 5
}
