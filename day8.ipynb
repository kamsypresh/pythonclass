{
 "cells": [
  {
   "cell_type": "code",
   "execution_count": 1,
   "id": "c95bc19d",
   "metadata": {},
   "outputs": [],
   "source": [
    "# excersie\n",
    "#using a function write a program to calculate the total cost of a customer purchase\n",
    "#including discount and sales tax\n",
    "#if the customer purchase is above 500000 you give discount\n",
    "# south south 15%\n",
    "#south east 10%\n",
    "#south west 8%\n",
    "#north east  12%\n",
    "#north west 11%\n",
    "#north central 6%\n",
    "#the vast is slated at 3.5%\n",
    " "
   ]
  },
  {
   "cell_type": "code",
   "execution_count": 22,
   "id": "2018a547",
   "metadata": {},
   "outputs": [
    {
     "name": "stdout",
     "output_type": "stream",
     "text": [
      "enter customer purchase amount:4444444\n",
      "enter customer region:south south\n",
      "________custoimer receipt_______\n",
      "                      \"purchase amount\":4444444.0\n",
      "                       \"discount\":666666.6\n",
      "                       \"tax vax\":155555.54\n",
      "                       \"total amount including the vat minus discount\":3933332.94\n"
     ]
    }
   ],
   "source": [
    "def boardstore():\n",
    "    purchaseamount=float(input(\"enter customer purchase amount:\"))\n",
    "    region=input(\"enter customer region:\")\n",
    "    if purchaseamount >= 500000 and region == \"south south\":\n",
    "        print(f\"\"\"________custoimer receipt_______\n",
    "                      \"purchase amount\":{purchaseamount}\n",
    "                       \"discount\":{purchaseamount*0.15}\n",
    "                       \"tax vax\":{purchaseamount*0.035}\n",
    "                       \"total amount including the vat minus discount\":{purchaseamount+(purchaseamount*0.035)-(purchaseamount * 0.15)}\"\"\")\n",
    "\n",
    "    elif purchaseamount >= 500000 and region == \"south east\":\n",
    "        print(f\"\"\"________customer receipt_______\n",
    "                      \"purchase amount\":{purchaseamount}\n",
    "                       \"discount\":{purchaseamount*0.10}\n",
    "                       \"tax vax\":{purchaseamount*0.035}\n",
    "                       \"total amount including the vat minus discount\":{purchaseamount+(purchaseamount*0.035)-(purchaseamount * 0.10)}\"\"\")\n",
    "\n",
    "    elif purchaseamount >= 500000 and region == \"south east\":\n",
    "         print(f\"\"\"________customer receipt_______\n",
    "                      \"purchase amount\":{purchaseamount}\n",
    "                       \"discount\":{purchaseamount*0.12}\n",
    "                       \"tax vax\":{purchaseamount*0.035}\n",
    "                       \"total amount including the vat minus discount\":{purchaseamount+(purchaseamount*0.035)-(purchaseamount * 0.12)}\"\"\")\n",
    "    elif purchaseamount >= 500000 and region == \"south west\":\n",
    "         print(f\"\"\"________custoimer receipt_______\n",
    "                      \"purchase amount\":{purchaseamount}\n",
    "                       \"discount\":{purchaseamount*0.8}\n",
    "                       \"tax vax\":{purchaseamount*0.035}\n",
    "                       \"total amount including the vat minus discount\":{purchaseamount+(purchaseamount*0.035)-(purchaseamount * 0.8)}\"\"\")\n",
    "    elif purchaseamount >= 500000 and region == \"north east\":\n",
    "         print(f\"\"\"________custoimer receipt_______\n",
    "                      \"purchase amount\":{purchaseamount}\n",
    "                       \"discount\":{purchaseamount*0.10}\n",
    "                       \"tax vax\":{purchaseamount*0.035}\n",
    "                       \"total amount including the vat minus discount\":{purchaseamount+(purchaseamount*0.035)-(purchaseamount * 0.10)}\"\"\")\n",
    "    elif purchaseamount >= 500000 and region == \"north west\":\n",
    "         print(f\"\"\"________custoimer receipt_______\n",
    "                      \"purchase amount\":{purchaseamount}\n",
    "                       \"discount\":{purchaseamount*0.11}\n",
    "                       \"tax vax\":{purchaseamount*0.035}\n",
    "                       \"total amount including the vat minus discount\":{purchaseamount+(purchaseamount*0.035)-(purchaseamount * 0.11)}\"\"\")\n",
    "    elif purchaseamount >= 500000 and region == \"north central\":\n",
    "         print(f\"\"\"________custoimer receipt_______\n",
    "                      \"purchase amount\":{purchaseamount}\n",
    "                       \"discount\":{purchaseamount*0.6}\n",
    "                       \"tax vax\":{purchaseamount*0.035}\n",
    "                       \"total amount including the vat minus discount\":{purchaseamount+(purchaseamount*0.035)-(purchaseamount * 0.6)}\"\"\")\n",
    "    else:\n",
    "         print(f\"\"\"________customer receipt_______\n",
    "                      \"purchase amount\":{purchaseamount}\n",
    "                       \"tax vax\":{purchaseamount*0.035}\n",
    "                       \"total amount including the vat minus discount\":{purchaseamount+(purchaseamount*0.035)-(purchaseamount * 0.10)}\"\"\")\n",
    "boardstore()\n",
    "                          "
   ]
  },
  {
   "cell_type": "code",
   "execution_count": 9,
   "id": "098f3fa3",
   "metadata": {},
   "outputs": [
    {
     "data": {
      "text/plain": [
       "7"
      ]
     },
     "execution_count": 9,
     "metadata": {},
     "output_type": "execute_result"
    }
   ],
   "source": [
    "## lambda\n",
    "def add(x,y):\n",
    "    return x + y\n",
    "add(4,3)"
   ]
  },
  {
   "cell_type": "code",
   "execution_count": 10,
   "id": "b8460cc3",
   "metadata": {},
   "outputs": [
    {
     "data": {
      "text/plain": [
       "7"
      ]
     },
     "execution_count": 10,
     "metadata": {},
     "output_type": "execute_result"
    }
   ],
   "source": [
    "(lambda x,y : x+y)(4,3)"
   ]
  },
  {
   "cell_type": "code",
   "execution_count": 11,
   "id": "1926acd0",
   "metadata": {},
   "outputs": [
    {
     "data": {
      "text/plain": [
       "54"
      ]
     },
     "execution_count": 11,
     "metadata": {},
     "output_type": "execute_result"
    }
   ],
   "source": [
    "(lambda x,y,z: x+y*z)(4,5,10)"
   ]
  },
  {
   "cell_type": "code",
   "execution_count": 18,
   "id": "36456d9e",
   "metadata": {},
   "outputs": [
    {
     "name": "stdout",
     "output_type": "stream",
     "text": [
      "enter your password:Kaks\n"
     ]
    },
    {
     "data": {
      "text/plain": [
       "'incorrect password requirement'"
      ]
     },
     "execution_count": 18,
     "metadata": {},
     "output_type": "execute_result"
    }
   ],
   "source": [
    "## write a lambda fuction giving a user password to (lambda password starts with an upper case and len of 8)\n",
    "(lambda password :f\"{password} is correct\" if password[0]==password [0].upper() and len(password) >= 8 else \"incorrect password requirement\")(input(\"enter your password:\"))"
   ]
  },
  {
   "cell_type": "code",
   "execution_count": 20,
   "id": "0d5441e2",
   "metadata": {},
   "outputs": [
    {
     "name": "stdout",
     "output_type": "stream",
     "text": [
      "[1, 5]\n"
     ]
    }
   ],
   "source": [
    "## filter function \n",
    "num2=[1,2,5,8,10]\n",
    "nlist=list(filter(lambda x: x % 2 !=0, num2))\n",
    "print (nlist)"
   ]
  },
  {
   "cell_type": "code",
   "execution_count": 21,
   "id": "86321c81",
   "metadata": {},
   "outputs": [
    {
     "name": "stdout",
     "output_type": "stream",
     "text": [
      "[2, 8, 10]\n"
     ]
    }
   ],
   "source": [
    "num2=[1,2,5,8,10]\n",
    "nlist=list(filter(lambda x: x % 2 ==0, num2))\n",
    "print (nlist)"
   ]
  }
 ],
 "metadata": {
  "kernelspec": {
   "display_name": "Python 3 (ipykernel)",
   "language": "python",
   "name": "python3"
  },
  "language_info": {
   "codemirror_mode": {
    "name": "ipython",
    "version": 3
   },
   "file_extension": ".py",
   "mimetype": "text/x-python",
   "name": "python",
   "nbconvert_exporter": "python",
   "pygments_lexer": "ipython3",
   "version": "3.11.5"
  }
 },
 "nbformat": 4,
 "nbformat_minor": 5
}
