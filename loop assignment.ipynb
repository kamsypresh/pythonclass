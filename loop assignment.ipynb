{
 "cells": [
  {
   "cell_type": "code",
   "execution_count": 1,
   "id": "87983f39",
   "metadata": {},
   "outputs": [],
   "source": [
    "## randomly generate a number and write a program to ask  a user to guess until it is correct use a condition to give hint\n",
    "## use the while loop for iteration\n",
    "## import a module for the given problem"
   ]
  },
  {
   "cell_type": "code",
   "execution_count": 8,
   "id": "33f472b9",
   "metadata": {},
   "outputs": [
    {
     "name": "stdout",
     "output_type": "stream",
     "text": [
      "choose your lucky number:34\n",
      "the number is incorrect: 34 choose between the given numbers repeat([-27])\n",
      "insert your lucky number4\n",
      "the number is incorrect: 4 choose between the given numbers repeat([-27])\n",
      "insert your lucky number4\n",
      "the number is incorrect: 4 choose between the given numbers repeat([-27])\n",
      "insert your lucky number20\n",
      "congratulations guessed right you are now a billionaire!!!\n"
     ]
    }
   ],
   "source": [
    "counter= 20\n",
    "num=[3-30]\n",
    "jackpot= int(input(\"choose your lucky number:\")) \n",
    "import statistics as stat\n",
    "while jackpot != 20:\n",
    "    print  (f\"the number is incorrect: {jackpot} choose between the given numbers {stat.repeat(num)}\")\n",
    "    jackpot=int(input(\"insert your lucky number\"))\n",
    "if jackpot == 20:\n",
    "    print (f\"congratulations guessed right you are now a billionaire!!!\")\n",
    "    counter +=5\n",
    "else:\n",
    "    print(\"sorry you lost the game try again next time\")\n"
   ]
  },
  {
   "cell_type": "code",
   "execution_count": null,
   "id": "febe0791",
   "metadata": {},
   "outputs": [],
   "source": [
    "##### import statistics as stat\n",
    "print(dir(stat))"
   ]
  }
 ],
 "metadata": {
  "kernelspec": {
   "display_name": "Python 3 (ipykernel)",
   "language": "python",
   "name": "python3"
  },
  "language_info": {
   "codemirror_mode": {
    "name": "ipython",
    "version": 3
   },
   "file_extension": ".py",
   "mimetype": "text/x-python",
   "name": "python",
   "nbconvert_exporter": "python",
   "pygments_lexer": "ipython3",
   "version": "3.11.5"
  }
 },
 "nbformat": 4,
 "nbformat_minor": 5
}
