{
 "cells": [
  {
   "cell_type": "markdown",
   "id": "00cb6ff6",
   "metadata": {},
   "source": [
    "## iterable object"
   ]
  },
  {
   "cell_type": "code",
   "execution_count": 1,
   "id": "1ab1c6e1",
   "metadata": {},
   "outputs": [],
   "source": [
    "##iterable objects are used to loop over element one by one\n",
    "##turple\n",
    "##list\n",
    "##dictionary"
   ]
  },
  {
   "cell_type": "markdown",
   "id": "0c2920e7",
   "metadata": {},
   "source": [
    "## turple\n",
    "## turple unchangeable\n",
    "## turple the bracket to identify () \n",
    "## turple use index location to access each element"
   ]
  },
  {
   "cell_type": "code",
   "execution_count": 2,
   "id": "2f89f992",
   "metadata": {},
   "outputs": [
    {
     "name": "stdout",
     "output_type": "stream",
     "text": [
      "45\n",
      "<class 'tuple'>\n",
      "9\n"
     ]
    }
   ],
   "source": [
    "numbers=(10,24,25,3,45,40,50,70,\"kamsy\")\n",
    "print(numbers[4])\n",
    "print(type(numbers))\n",
    "print(len(numbers))"
   ]
  },
  {
   "cell_type": "code",
   "execution_count": 3,
   "id": "9b8e21bd",
   "metadata": {},
   "outputs": [
    {
     "name": "stdout",
     "output_type": "stream",
     "text": [
      "50\n"
     ]
    }
   ],
   "source": [
    "## foward inde\n",
    "print(numbers[6]) ## this is retriving element using forward index locati0n"
   ]
  },
  {
   "cell_type": "code",
   "execution_count": 4,
   "id": "4fb61e14",
   "metadata": {},
   "outputs": [
    {
     "name": "stdout",
     "output_type": "stream",
     "text": [
      "10\n"
     ]
    }
   ],
   "source": [
    "## backward index\n",
    "print(numbers[-9])## this is retriving element using backward index locati0n"
   ]
  },
  {
   "cell_type": "code",
   "execution_count": 5,
   "id": "954b6385",
   "metadata": {},
   "outputs": [
    {
     "name": "stdout",
     "output_type": "stream",
     "text": [
      "(24, 25, 3, 45, 40, 50, 70, 'kamsy')\n"
     ]
    }
   ],
   "source": [
    "## range\n",
    "print(numbers[1:10])## this is retriving element using forward range index locati0n"
   ]
  },
  {
   "cell_type": "code",
   "execution_count": 6,
   "id": "9fae4df9",
   "metadata": {},
   "outputs": [
    {
     "name": "stdout",
     "output_type": "stream",
     "text": [
      "(24, 25, 3, 45, 40, 50, 70)\n"
     ]
    }
   ],
   "source": [
    "## forward and backward range\n",
    "print(numbers[1:-1])"
   ]
  },
  {
   "cell_type": "code",
   "execution_count": 7,
   "id": "ceced05a",
   "metadata": {},
   "outputs": [
    {
     "name": "stdout",
     "output_type": "stream",
     "text": [
      "(24, 25, 3, 45, 40, 50, 70, 'kamsy')\n"
     ]
    }
   ],
   "source": [
    "## forward\n",
    "print(numbers[1::]) ## retriving element in ascending order"
   ]
  },
  {
   "cell_type": "code",
   "execution_count": 8,
   "id": "b497387b",
   "metadata": {},
   "outputs": [
    {
     "name": "stdout",
     "output_type": "stream",
     "text": [
      "('kamsy', 70, 50, 40, 45, 3, 25, 24, 10)\n"
     ]
    }
   ],
   "source": [
    "## reverse\n",
    "print(numbers[::-1]) ## retriving element in decending order"
   ]
  },
  {
   "cell_type": "markdown",
   "id": "5e6dec97",
   "metadata": {},
   "source": [
    "## list"
   ]
  },
  {
   "cell_type": "markdown",
   "id": "aeffbb73",
   "metadata": {},
   "source": [
    "## list\n",
    "## list unchangeable\n",
    "## list the square bracket to identify list []\n",
    "## list use index location to access each element"
   ]
  },
  {
   "cell_type": "code",
   "execution_count": 16,
   "id": "82f2bc50",
   "metadata": {},
   "outputs": [
    {
     "name": "stdout",
     "output_type": "stream",
     "text": [
      "['stawberry', 'orange', 'pinapple', 'watermelon']\n",
      "<class 'list'>\n"
     ]
    }
   ],
   "source": [
    "fruits=[\"stawberry\",\"orange\",\"pinapple\",\"watermelon\"]\n",
    "print(fruits)\n",
    "print(type(fruits))"
   ]
  },
  {
   "cell_type": "code",
   "execution_count": 10,
   "id": "a145cb71",
   "metadata": {},
   "outputs": [
    {
     "name": "stdout",
     "output_type": "stream",
     "text": [
      "45\n"
     ]
    }
   ],
   "source": [
    "print(fruits[4])"
   ]
  },
  {
   "cell_type": "code",
   "execution_count": 11,
   "id": "0ea1a946",
   "metadata": {},
   "outputs": [
    {
     "name": "stdout",
     "output_type": "stream",
     "text": [
      "['stawberry', 'orange', 'pinapple', 'watermelon', 45, 'cherry']\n"
     ]
    }
   ],
   "source": [
    "fruits.append(\"cherry\")## used to add elements to a list\n",
    "print(fruits)"
   ]
  },
  {
   "cell_type": "code",
   "execution_count": 12,
   "id": "2bc8c3ff",
   "metadata": {},
   "outputs": [
    {
     "name": "stdout",
     "output_type": "stream",
     "text": [
      "['stawberry', 'orange', 'pinapple', 'watermelon', 45, 'cherry', 'mango', 'paw paw', 'apple', 'coconut']\n"
     ]
    }
   ],
   "source": [
    "fruits.extend([\"mango\",\"paw paw\",\"apple\",\"coconut\"])## extend adds list into an exisiting list\n",
    "print(fruits)"
   ]
  },
  {
   "cell_type": "code",
   "execution_count": 13,
   "id": "6f6c72ee",
   "metadata": {},
   "outputs": [
    {
     "name": "stdout",
     "output_type": "stream",
     "text": [
      "['stawberry', 'orange', 'pinapple', 'watermelon', 45, 'cherry', 'mango', 'apple', 'coconut']\n"
     ]
    }
   ],
   "source": [
    "fruits.remove(\"paw paw\")\n",
    "print(fruits)"
   ]
  },
  {
   "cell_type": "code",
   "execution_count": 17,
   "id": "9878a11b",
   "metadata": {},
   "outputs": [
    {
     "name": "stdout",
     "output_type": "stream",
     "text": [
      "['orange', 'pinapple', 'stawberry', 'watermelon']\n"
     ]
    }
   ],
   "source": [
    "fruits.sort()\n",
    "print(fruits)## sort arrange each element in ascending alphabetically"
   ]
  },
  {
   "cell_type": "code",
   "execution_count": 18,
   "id": "ec6bb3cc",
   "metadata": {},
   "outputs": [
    {
     "name": "stdout",
     "output_type": "stream",
     "text": [
      "['orange', 'pinapple', 'stawberry', 'watermelon']\n"
     ]
    }
   ],
   "source": [
    "item=fruits.copy() ##inheriting the elements  being stored in a previous list  to another variable\n",
    "print(item)"
   ]
  },
  {
   "cell_type": "code",
   "execution_count": 20,
   "id": "29dda872",
   "metadata": {},
   "outputs": [
    {
     "name": "stdout",
     "output_type": "stream",
     "text": [
      "['orange', 'pinapple', 'stawberry', 'watermelon']\n"
     ]
    }
   ],
   "source": [
    "print(fruits)"
   ]
  },
  {
   "cell_type": "code",
   "execution_count": 23,
   "id": "040fbd5c",
   "metadata": {},
   "outputs": [],
   "source": [
    "## del item ## this is to delete a particular varable of the list"
   ]
  },
  {
   "cell_type": "code",
   "execution_count": 21,
   "id": "cc01c0d1",
   "metadata": {},
   "outputs": [],
   "source": [
    "### exercisen\n",
    "## make a list of five state in nigeria "
   ]
  },
  {
   "cell_type": "code",
   "execution_count": 22,
   "id": "5e62c6b7",
   "metadata": {},
   "outputs": [
    {
     "name": "stdout",
     "output_type": "stream",
     "text": [
      "['anambara', 'imo', 'delta', 'adamawa', 'enugu']\n"
     ]
    }
   ],
   "source": [
    "state=[\"anambara\",\"imo\",\"delta\",\"adamawa\",\"enugu\"]\n",
    "print(state)"
   ]
  },
  {
   "cell_type": "markdown",
   "id": "121b23c9",
   "metadata": {},
   "source": [
    "## dictionary\n",
    "## dictionary unchangeable\n",
    "## dictionary the curly bracket to identify dictionary {}\n",
    "## dictionary use key to locate each element"
   ]
  },
  {
   "cell_type": "code",
   "execution_count": 24,
   "id": "62f6f30d",
   "metadata": {},
   "outputs": [
    {
     "name": "stdout",
     "output_type": "stream",
     "text": [
      "<class 'dict'>\n",
      "{'name': 'kamsy', 'age': 17, 'marital status': 'single', 'date': '04-11-23', 'gender': 'female'}\n"
     ]
    }
   ],
   "source": [
    "human={\"name\":\"kamsy\",\n",
    "      \"age\":17,\n",
    "      \"marital status\":\"single\",\n",
    "      \"date\":\"04-11-23\",\n",
    "       \"gender\":\"female\"\n",
    "      }\n",
    "print(type(human))\n",
    "print(human)"
   ]
  },
  {
   "cell_type": "code",
   "execution_count": 27,
   "id": "cab5cb5b",
   "metadata": {},
   "outputs": [
    {
     "name": "stdout",
     "output_type": "stream",
     "text": [
      "dict_values(['kamsy', 17, 'single', '04-11-23', 'female'])\n",
      "dict_keys(['name', 'age', 'marital status', 'date', 'gender'])\n"
     ]
    }
   ],
   "source": [
    "print(human.values())\n",
    "print(human.keys())"
   ]
  },
  {
   "cell_type": "code",
   "execution_count": 28,
   "id": "5a2c0b4a",
   "metadata": {},
   "outputs": [
    {
     "name": "stdout",
     "output_type": "stream",
     "text": [
      "kamsy\n"
     ]
    }
   ],
   "source": [
    "print(human[\"name\"])"
   ]
  },
  {
   "cell_type": "code",
   "execution_count": 1,
   "id": "8db4d83c",
   "metadata": {},
   "outputs": [
    {
     "ename": "NameError",
     "evalue": "name 'human' is not defined",
     "output_type": "error",
     "traceback": [
      "\u001b[1;31m---------------------------------------------------------------------------\u001b[0m",
      "\u001b[1;31mNameError\u001b[0m                                 Traceback (most recent call last)",
      "Cell \u001b[1;32mIn[1], line 2\u001b[0m\n\u001b[0;32m      1\u001b[0m r\u001b[38;5;241m=\u001b[39m({\u001b[38;5;124m\"\u001b[39m\u001b[38;5;124mheight:1.97\u001b[39m\u001b[38;5;124m\"\u001b[39m})\u001b[38;5;66;03m##\u001b[39;00m\n\u001b[1;32m----> 2\u001b[0m human\u001b[38;5;241m.\u001b[39mupdate(r)\n\u001b[0;32m      3\u001b[0m \u001b[38;5;28mprint\u001b[39m(human)\n",
      "\u001b[1;31mNameError\u001b[0m: name 'human' is not defined"
     ]
    }
   ],
   "source": [
    "r=({\"height:1.97\"})##\n",
    "human.update(r)\n",
    "print(human)"
   ]
  },
  {
   "cell_type": "code",
   "execution_count": null,
   "id": "5def777e",
   "metadata": {},
   "outputs": [],
   "source": []
  }
 ],
 "metadata": {
  "kernelspec": {
   "display_name": "Python 3 (ipykernel)",
   "language": "python",
   "name": "python3"
  },
  "language_info": {
   "codemirror_mode": {
    "name": "ipython",
    "version": 3
   },
   "file_extension": ".py",
   "mimetype": "text/x-python",
   "name": "python",
   "nbconvert_exporter": "python",
   "pygments_lexer": "ipython3",
   "version": "3.11.5"
  }
 },
 "nbformat": 4,
 "nbformat_minor": 5
}
