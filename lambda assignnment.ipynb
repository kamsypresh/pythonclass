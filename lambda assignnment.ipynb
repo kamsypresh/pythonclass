{
 "cells": [
  {
   "cell_type": "markdown",
   "id": "77c239d4",
   "metadata": {},
   "source": [
    "## NUMBER 1"
   ]
  },
  {
   "cell_type": "code",
   "execution_count": null,
   "id": "6a67098e",
   "metadata": {},
   "outputs": [],
   "source": [
    "## write a lamdba if a user input is even or odd (lambda) user number:f\"{usernumber} is even\"\n",
    "## if usernumber %2 == 0 else f\"{usernumber} is odd\") (int(input(\"what is your number\".))"
   ]
  },
  {
   "cell_type": "code",
   "execution_count": 3,
   "id": "324a04d4",
   "metadata": {},
   "outputs": [
    {
     "name": "stdout",
     "output_type": "stream",
     "text": [
      "what is your number23\n",
      "23 is odd\n"
     ]
    }
   ],
   "source": [
    "usernumber=(int(input(\"what is your number\")))\n",
    "if usernumber %2 == 0:\n",
    "    print (f\"{usernumber} is even\")\n",
    "else:\n",
    "    print (f\"{usernumber} is odd\")"
   ]
  },
  {
   "cell_type": "markdown",
   "id": "aca984b0",
   "metadata": {},
   "source": [
    "## NUMBER 2"
   ]
  },
  {
   "cell_type": "code",
   "execution_count": 5,
   "id": "2d459924",
   "metadata": {},
   "outputs": [],
   "source": [
    "## write a lambda function that squares a given number\n",
    "## filter a list of string to include only those that have more than 5 characters\n",
    "## given a list of temperature in celcius use map to convert them to fahrenheit using the formular:f-9/5c+32"
   ]
  },
  {
   "cell_type": "code",
   "execution_count": 1,
   "id": "422d6d30",
   "metadata": {
    "scrolled": true
   },
   "outputs": [
    {
     "name": "stdout",
     "output_type": "stream",
     "text": [
      "enter your number50\n",
      "[2500]\n"
     ]
    }
   ],
   "source": [
    "## map\n",
    "numbers=(int(input(\"enter your number\")))\n",
    "squared_root=list(map(lambda x: x**2, {numbers}))\n",
    "print(squared_root)"
   ]
  },
  {
   "cell_type": "code",
   "execution_count": 2,
   "id": "23e0cc94",
   "metadata": {},
   "outputs": [
    {
     "name": "stdout",
     "output_type": "stream",
     "text": [
      "['bouncer', 'catherine']\n"
     ]
    }
   ],
   "source": [
    "## filter strings\n",
    "list_of_strings=[\"bouncer\",\"jacob\",\"jared\",\"matt\",\"catherine\"]\n",
    "filtered_strings=[strings for strings in list_of_strings if len(strings)>5]\n",
    "print(filtered_strings)\n",
    "\n"
   ]
  },
  {
   "cell_type": "code",
   "execution_count": 3,
   "id": "2754ebf7",
   "metadata": {},
   "outputs": [
    {
     "name": "stdout",
     "output_type": "stream",
     "text": [
      "[86.0, 68.0, 122.0, 158.0, 104.0]\n"
     ]
    }
   ],
   "source": [
    "## map\n",
    "celsius_temperature=[30,20,50,70,40]\n",
    "def celsius_fahrenheit(celsius):\n",
    "    return 9/5 * celsius + 32\n",
    "fahrenheit_temperture=list(map(celsius_fahrenheit, celsius_temperature))\n",
    "print(fahrenheit_temperture)"
   ]
  },
  {
   "cell_type": "code",
   "execution_count": null,
   "id": "d891959d",
   "metadata": {},
   "outputs": [],
   "source": []
  }
 ],
 "metadata": {
  "kernelspec": {
   "display_name": "Python 3 (ipykernel)",
   "language": "python",
   "name": "python3"
  },
  "language_info": {
   "codemirror_mode": {
    "name": "ipython",
    "version": 3
   },
   "file_extension": ".py",
   "mimetype": "text/x-python",
   "name": "python",
   "nbconvert_exporter": "python",
   "pygments_lexer": "ipython3",
   "version": "3.11.5"
  }
 },
 "nbformat": 4,
 "nbformat_minor": 5
}
