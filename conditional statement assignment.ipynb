{
 "cells": [
  {
   "cell_type": "code",
   "execution_count": 1,
   "id": "012f88b6",
   "metadata": {},
   "outputs": [],
   "source": [
    "## in the given code,a person eligiblity for a job offer is determined based on their age\n",
    "## and region if the person is eligible,\n",
    "## a random state from the provided list is chosen\n",
    "## .identify  a potential issue in the code and purpose a modification to address it"
   ]
  },
  {
   "cell_type": "code",
   "execution_count": 14,
   "id": "e590de78",
   "metadata": {},
   "outputs": [
    {
     "name": "stdout",
     "output_type": "stream",
     "text": [
      "what is your age:19\n",
      "what is your state of orgin:west\n",
      "you are eligible for this job offer\n"
     ]
    }
   ],
   "source": [
    "age=float(input(\"what is your age:\"))\n",
    "region=input(\"what is your state of orgin:\")\n",
    "if age >=18 and region == \"north\":\n",
    "    print(\"you are eligible for this job offer\")\n",
    "elif age >=18 and region == \"east\":\n",
    "    print(\"you are eligible for this job offer\")\n",
    "elif age >=18 and region == \"west\":\n",
    "    print(\"you are eligible for this job offer\")\n",
    "elif age >=18 and region == \"south\":\n",
    "    print(\"you are eligible for this job offer\")\n",
    "elif age >=18 and region == \"north east\":\n",
    "    print(\"you are eligible for this job offer\")\n",
    "else:\n",
    "    print(\"sorry but you are not eligible to secure this job\")\n",
    "    for job in age : region\n",
    "    print(\"job\")\n",
    "    \n",
    "    "
   ]
  },
  {
   "cell_type": "code",
   "execution_count": null,
   "id": "ccd0176f",
   "metadata": {},
   "outputs": [],
   "source": []
  }
 ],
 "metadata": {
  "kernelspec": {
   "display_name": "Python 3 (ipykernel)",
   "language": "python",
   "name": "python3"
  },
  "language_info": {
   "codemirror_mode": {
    "name": "ipython",
    "version": 3
   },
   "file_extension": ".py",
   "mimetype": "text/x-python",
   "name": "python",
   "nbconvert_exporter": "python",
   "pygments_lexer": "ipython3",
   "version": "3.11.5"
  }
 },
 "nbformat": 4,
 "nbformat_minor": 5
}
